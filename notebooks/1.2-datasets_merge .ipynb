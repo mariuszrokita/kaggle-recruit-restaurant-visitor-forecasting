{
 "cells": [
  {
   "cell_type": "code",
   "execution_count": 1,
   "metadata": {},
   "outputs": [],
   "source": [
    "import numpy as np\n",
    "import pandas as pd\n",
    "\n",
    "import seaborn as sns\n",
    "import matplotlib.pyplot as plt\n",
    "import matplotlib.dates as mdates\n",
    "%matplotlib inline"
   ]
  },
  {
   "cell_type": "code",
   "execution_count": 2,
   "metadata": {},
   "outputs": [],
   "source": [
    "df_air_reserve =       pd.read_csv(\"../data/raw/air_reserve.csv\", parse_dates=['visit_datetime', 'reserve_datetime'])\n",
    "df_air_store_info =    pd.read_csv(\"../data/raw/air_store_info.csv\")\n",
    "df_air_visit_data =    pd.read_csv(\"../data/raw/air_visit_data.csv\", parse_dates=['visit_date'])\n",
    "\n",
    "df_hpg_reserve =       pd.read_csv(\"../data/raw/hpg_reserve.csv\", parse_dates=['visit_datetime', 'reserve_datetime'])\n",
    "df_hpg_store_info =    pd.read_csv(\"../data/raw/hpg_store_info.csv\")\n",
    "\n",
    "df_date_info =         pd.read_csv(\"../data/raw/date_info.csv\", parse_dates=['calendar_date'])\n",
    "df_store_id_relation = pd.read_csv(\"../data/raw/store_id_relation.csv\")"
   ]
  },
  {
   "cell_type": "markdown",
   "metadata": {},
   "source": [
    "### CHECK DATASET SIZES"
   ]
  },
  {
   "cell_type": "code",
   "execution_count": 3,
   "metadata": {},
   "outputs": [
    {
     "name": "stdout",
     "output_type": "stream",
     "text": [
      "\"df_air_reserve\" dataset has 92378 rows\n",
      "\"df_air_store_info\" dataset has 829 rows\n",
      "\"df_air_visit_data\" dataset has 252108 rows\n",
      "\n",
      "\"df_hpg_reserve\" dataset has 2000320 rows\n",
      "\"df_hpg_store_info\" dataset has 4690 rows\n"
     ]
    }
   ],
   "source": [
    "print('\"df_air_reserve\" dataset has %s rows' % df_air_reserve.shape[0])\n",
    "print('\"df_air_store_info\" dataset has %s rows' % df_air_store_info.shape[0])\n",
    "print('\"df_air_visit_data\" dataset has %s rows' % df_air_visit_data.shape[0])\n",
    "print('')\n",
    "print('\"df_hpg_reserve\" dataset has %s rows' % df_hpg_reserve.shape[0])\n",
    "print('\"df_hpg_store_info\" dataset has %s rows' % df_hpg_store_info.shape[0])"
   ]
  },
  {
   "cell_type": "markdown",
   "metadata": {},
   "source": [
    "### INFO"
   ]
  },
  {
   "cell_type": "markdown",
   "metadata": {},
   "source": [
    "There are significant number of records, especially in the 'df_air_visit_data' and 'df_hpg_reserve' logs. Merging/joining all dataset into one would result in the memory consumption over 2.4GB.\n",
    "\n",
    "In order to speed up analysis and reduce utilization of resources (CPU, memory), the first approach of the experiment will be conducted only for the TOP 20 restaurants.\n",
    "\n",
    "**I define TOP 20 restaurants as restaurants most VISITED by (hungry &#x1F642;) people.** "
   ]
  },
  {
   "cell_type": "markdown",
   "metadata": {},
   "source": [
    "### IDENTIFICATION OF TOP 20 RESTAURANTS"
   ]
  },
  {
   "cell_type": "code",
   "execution_count": 4,
   "metadata": {},
   "outputs": [],
   "source": [
    "# The restaurants sorted by overall number of visitors\n",
    "df_air_top20 = df_air_visit_data.groupby('air_store_id')['visitors'] \\\n",
    "                                .agg({\"Overall number of visitors\": \"sum\"}) \\\n",
    "                                .sort_values(by=\"Overall number of visitors\", ascending=False) \\\n",
    "                                .head(20)"
   ]
  },
  {
   "cell_type": "code",
   "execution_count": 5,
   "metadata": {},
   "outputs": [
    {
     "data": {
      "text/html": [
       "<div>\n",
       "<table border=\"1\" class=\"dataframe\">\n",
       "  <thead>\n",
       "    <tr style=\"text-align: right;\">\n",
       "      <th></th>\n",
       "      <th>Overall number of visitors</th>\n",
       "    </tr>\n",
       "    <tr>\n",
       "      <th>air_store_id</th>\n",
       "      <th></th>\n",
       "    </tr>\n",
       "  </thead>\n",
       "  <tbody>\n",
       "    <tr>\n",
       "      <th>air_399904bdb7685ca0</th>\n",
       "      <td>18717</td>\n",
       "    </tr>\n",
       "    <tr>\n",
       "      <th>air_f26f36ec4dc5adb0</th>\n",
       "      <td>18577</td>\n",
       "    </tr>\n",
       "    <tr>\n",
       "      <th>air_e55abd740f93ecc4</th>\n",
       "      <td>18101</td>\n",
       "    </tr>\n",
       "    <tr>\n",
       "      <th>air_99157b6163835eec</th>\n",
       "      <td>18097</td>\n",
       "    </tr>\n",
       "    <tr>\n",
       "      <th>air_5c817ef28f236bdf</th>\n",
       "      <td>18009</td>\n",
       "    </tr>\n",
       "    <tr>\n",
       "      <th>air_d97dabf7aae60da5</th>\n",
       "      <td>17971</td>\n",
       "    </tr>\n",
       "    <tr>\n",
       "      <th>air_3525f11ef0bf0c35</th>\n",
       "      <td>17958</td>\n",
       "    </tr>\n",
       "    <tr>\n",
       "      <th>air_681f96e6a6595f82</th>\n",
       "      <td>17559</td>\n",
       "    </tr>\n",
       "    <tr>\n",
       "      <th>air_d34c0861a2be94cb</th>\n",
       "      <td>17467</td>\n",
       "    </tr>\n",
       "    <tr>\n",
       "      <th>air_082908692355165e</th>\n",
       "      <td>17408</td>\n",
       "    </tr>\n",
       "    <tr>\n",
       "      <th>air_a38f25e3399d1b25</th>\n",
       "      <td>17332</td>\n",
       "    </tr>\n",
       "    <tr>\n",
       "      <th>air_6b15edd1b4fbb96a</th>\n",
       "      <td>17060</td>\n",
       "    </tr>\n",
       "    <tr>\n",
       "      <th>air_eb120e6d384a17a8</th>\n",
       "      <td>17041</td>\n",
       "    </tr>\n",
       "    <tr>\n",
       "      <th>air_32460819c7600037</th>\n",
       "      <td>16992</td>\n",
       "    </tr>\n",
       "    <tr>\n",
       "      <th>air_04341b588bde96cd</th>\n",
       "      <td>16931</td>\n",
       "    </tr>\n",
       "    <tr>\n",
       "      <th>air_03963426c9312048</th>\n",
       "      <td>16877</td>\n",
       "    </tr>\n",
       "    <tr>\n",
       "      <th>air_dea0655f96947922</th>\n",
       "      <td>16871</td>\n",
       "    </tr>\n",
       "    <tr>\n",
       "      <th>air_cb7467aed805e7fe</th>\n",
       "      <td>16819</td>\n",
       "    </tr>\n",
       "    <tr>\n",
       "      <th>air_60a7057184ec7ec7</th>\n",
       "      <td>16663</td>\n",
       "    </tr>\n",
       "    <tr>\n",
       "      <th>air_9152d9926e5c4a3a</th>\n",
       "      <td>16625</td>\n",
       "    </tr>\n",
       "  </tbody>\n",
       "</table>\n",
       "</div>"
      ],
      "text/plain": [
       "                      Overall number of visitors\n",
       "air_store_id                                    \n",
       "air_399904bdb7685ca0                       18717\n",
       "air_f26f36ec4dc5adb0                       18577\n",
       "air_e55abd740f93ecc4                       18101\n",
       "air_99157b6163835eec                       18097\n",
       "air_5c817ef28f236bdf                       18009\n",
       "air_d97dabf7aae60da5                       17971\n",
       "air_3525f11ef0bf0c35                       17958\n",
       "air_681f96e6a6595f82                       17559\n",
       "air_d34c0861a2be94cb                       17467\n",
       "air_082908692355165e                       17408\n",
       "air_a38f25e3399d1b25                       17332\n",
       "air_6b15edd1b4fbb96a                       17060\n",
       "air_eb120e6d384a17a8                       17041\n",
       "air_32460819c7600037                       16992\n",
       "air_04341b588bde96cd                       16931\n",
       "air_03963426c9312048                       16877\n",
       "air_dea0655f96947922                       16871\n",
       "air_cb7467aed805e7fe                       16819\n",
       "air_60a7057184ec7ec7                       16663\n",
       "air_9152d9926e5c4a3a                       16625"
      ]
     },
     "execution_count": 5,
     "metadata": {},
     "output_type": "execute_result"
    }
   ],
   "source": [
    "df_air_top20"
   ]
  },
  {
   "cell_type": "markdown",
   "metadata": {},
   "source": [
    "## DATASET MERGING"
   ]
  },
  {
   "cell_type": "code",
   "execution_count": 6,
   "metadata": {},
   "outputs": [],
   "source": [
    "# first, create dataset with air_store_id column only\n",
    "df_top20_ids = pd.DataFrame(df_air_top20.index)"
   ]
  },
  {
   "cell_type": "markdown",
   "metadata": {},
   "source": [
    "### RESTAURANT DETAILS"
   ]
  },
  {
   "cell_type": "code",
   "execution_count": 7,
   "metadata": {},
   "outputs": [],
   "source": [
    "# create dataset with details of top 20 restaurants\n",
    "df_top20_ids_info = pd.merge(df_top20_ids, \n",
    "                             df_air_store_info, \n",
    "                             how='left',\n",
    "                             on=['air_store_id'])"
   ]
  },
  {
   "cell_type": "code",
   "execution_count": 8,
   "metadata": {},
   "outputs": [
    {
     "data": {
      "text/html": [
       "<div>\n",
       "<table border=\"1\" class=\"dataframe\">\n",
       "  <thead>\n",
       "    <tr style=\"text-align: right;\">\n",
       "      <th></th>\n",
       "      <th>air_store_id</th>\n",
       "      <th>air_genre_name</th>\n",
       "      <th>air_area_name</th>\n",
       "      <th>latitude</th>\n",
       "      <th>longitude</th>\n",
       "    </tr>\n",
       "  </thead>\n",
       "  <tbody>\n",
       "    <tr>\n",
       "      <th>0</th>\n",
       "      <td>air_399904bdb7685ca0</td>\n",
       "      <td>Italian/French</td>\n",
       "      <td>Ōsaka-fu Ōsaka-shi Kyūtarōmachi</td>\n",
       "      <td>34.681261</td>\n",
       "      <td>135.509801</td>\n",
       "    </tr>\n",
       "    <tr>\n",
       "      <th>1</th>\n",
       "      <td>air_f26f36ec4dc5adb0</td>\n",
       "      <td>Izakaya</td>\n",
       "      <td>Tōkyō-to Shinjuku-ku Kabukichō</td>\n",
       "      <td>35.693840</td>\n",
       "      <td>139.703549</td>\n",
       "    </tr>\n",
       "    <tr>\n",
       "      <th>2</th>\n",
       "      <td>air_e55abd740f93ecc4</td>\n",
       "      <td>Izakaya</td>\n",
       "      <td>Hyōgo-ken Kakogawa-shi Kakogawachō Kitazaike</td>\n",
       "      <td>34.756950</td>\n",
       "      <td>134.841177</td>\n",
       "    </tr>\n",
       "    <tr>\n",
       "      <th>3</th>\n",
       "      <td>air_99157b6163835eec</td>\n",
       "      <td>Cafe/Sweets</td>\n",
       "      <td>Shizuoka-ken Numazu-shi Miyukichō</td>\n",
       "      <td>35.095584</td>\n",
       "      <td>138.863493</td>\n",
       "    </tr>\n",
       "    <tr>\n",
       "      <th>4</th>\n",
       "      <td>air_5c817ef28f236bdf</td>\n",
       "      <td>Izakaya</td>\n",
       "      <td>Tōkyō-to Shibuya-ku Shibuya</td>\n",
       "      <td>35.661777</td>\n",
       "      <td>139.704051</td>\n",
       "    </tr>\n",
       "    <tr>\n",
       "      <th>5</th>\n",
       "      <td>air_d97dabf7aae60da5</td>\n",
       "      <td>Cafe/Sweets</td>\n",
       "      <td>Tōkyō-to Shibuya-ku Jingūmae</td>\n",
       "      <td>35.669290</td>\n",
       "      <td>139.707056</td>\n",
       "    </tr>\n",
       "    <tr>\n",
       "      <th>6</th>\n",
       "      <td>air_3525f11ef0bf0c35</td>\n",
       "      <td>Cafe/Sweets</td>\n",
       "      <td>Ōsaka-fu Ōsaka-shi Shinmachi</td>\n",
       "      <td>34.676231</td>\n",
       "      <td>135.486059</td>\n",
       "    </tr>\n",
       "    <tr>\n",
       "      <th>7</th>\n",
       "      <td>air_681f96e6a6595f82</td>\n",
       "      <td>Italian/French</td>\n",
       "      <td>Tōkyō-to Minato-ku Shibakōen</td>\n",
       "      <td>35.658068</td>\n",
       "      <td>139.751599</td>\n",
       "    </tr>\n",
       "    <tr>\n",
       "      <th>8</th>\n",
       "      <td>air_d34c0861a2be94cb</td>\n",
       "      <td>Cafe/Sweets</td>\n",
       "      <td>Fukuoka-ken Fukuoka-shi Momochi</td>\n",
       "      <td>33.581941</td>\n",
       "      <td>130.348436</td>\n",
       "    </tr>\n",
       "    <tr>\n",
       "      <th>9</th>\n",
       "      <td>air_082908692355165e</td>\n",
       "      <td>Italian/French</td>\n",
       "      <td>Tōkyō-to Shinjuku-ku Kabukichō</td>\n",
       "      <td>35.693840</td>\n",
       "      <td>139.703549</td>\n",
       "    </tr>\n",
       "    <tr>\n",
       "      <th>10</th>\n",
       "      <td>air_a38f25e3399d1b25</td>\n",
       "      <td>Izakaya</td>\n",
       "      <td>Tōkyō-to Chiyoda-ku Kudanminami</td>\n",
       "      <td>35.694003</td>\n",
       "      <td>139.753595</td>\n",
       "    </tr>\n",
       "    <tr>\n",
       "      <th>11</th>\n",
       "      <td>air_6b15edd1b4fbb96a</td>\n",
       "      <td>Italian/French</td>\n",
       "      <td>Shizuoka-ken Hamamatsu-shi Motoshirochō</td>\n",
       "      <td>34.710895</td>\n",
       "      <td>137.725940</td>\n",
       "    </tr>\n",
       "    <tr>\n",
       "      <th>12</th>\n",
       "      <td>air_eb120e6d384a17a8</td>\n",
       "      <td>Cafe/Sweets</td>\n",
       "      <td>Fukuoka-ken Fukuoka-shi Daimyō</td>\n",
       "      <td>33.589216</td>\n",
       "      <td>130.392813</td>\n",
       "    </tr>\n",
       "    <tr>\n",
       "      <th>13</th>\n",
       "      <td>air_32460819c7600037</td>\n",
       "      <td>Dining bar</td>\n",
       "      <td>Ōsaka-fu Ōsaka-shi Shinmachi</td>\n",
       "      <td>34.676231</td>\n",
       "      <td>135.486059</td>\n",
       "    </tr>\n",
       "    <tr>\n",
       "      <th>14</th>\n",
       "      <td>air_04341b588bde96cd</td>\n",
       "      <td>Izakaya</td>\n",
       "      <td>Tōkyō-to Nerima-ku Toyotamakita</td>\n",
       "      <td>35.735623</td>\n",
       "      <td>139.651658</td>\n",
       "    </tr>\n",
       "    <tr>\n",
       "      <th>15</th>\n",
       "      <td>air_03963426c9312048</td>\n",
       "      <td>Izakaya</td>\n",
       "      <td>Hiroshima-ken Hiroshima-shi Kokutaijimachi</td>\n",
       "      <td>34.386245</td>\n",
       "      <td>132.455018</td>\n",
       "    </tr>\n",
       "    <tr>\n",
       "      <th>16</th>\n",
       "      <td>air_dea0655f96947922</td>\n",
       "      <td>Dining bar</td>\n",
       "      <td>Ōsaka-fu Ōsaka-shi Ōgimachi</td>\n",
       "      <td>34.705362</td>\n",
       "      <td>135.510025</td>\n",
       "    </tr>\n",
       "    <tr>\n",
       "      <th>17</th>\n",
       "      <td>air_cb7467aed805e7fe</td>\n",
       "      <td>Izakaya</td>\n",
       "      <td>Fukuoka-ken Fukuoka-shi Daimyō</td>\n",
       "      <td>33.589216</td>\n",
       "      <td>130.392813</td>\n",
       "    </tr>\n",
       "    <tr>\n",
       "      <th>18</th>\n",
       "      <td>air_60a7057184ec7ec7</td>\n",
       "      <td>Izakaya</td>\n",
       "      <td>Fukuoka-ken Fukuoka-shi Torikai</td>\n",
       "      <td>33.575686</td>\n",
       "      <td>130.369976</td>\n",
       "    </tr>\n",
       "    <tr>\n",
       "      <th>19</th>\n",
       "      <td>air_9152d9926e5c4a3a</td>\n",
       "      <td>Italian/French</td>\n",
       "      <td>Tōkyō-to Chūō-ku Tsukiji</td>\n",
       "      <td>35.670651</td>\n",
       "      <td>139.771861</td>\n",
       "    </tr>\n",
       "  </tbody>\n",
       "</table>\n",
       "</div>"
      ],
      "text/plain": [
       "            air_store_id  air_genre_name  \\\n",
       "0   air_399904bdb7685ca0  Italian/French   \n",
       "1   air_f26f36ec4dc5adb0         Izakaya   \n",
       "2   air_e55abd740f93ecc4         Izakaya   \n",
       "3   air_99157b6163835eec     Cafe/Sweets   \n",
       "4   air_5c817ef28f236bdf         Izakaya   \n",
       "5   air_d97dabf7aae60da5     Cafe/Sweets   \n",
       "6   air_3525f11ef0bf0c35     Cafe/Sweets   \n",
       "7   air_681f96e6a6595f82  Italian/French   \n",
       "8   air_d34c0861a2be94cb     Cafe/Sweets   \n",
       "9   air_082908692355165e  Italian/French   \n",
       "10  air_a38f25e3399d1b25         Izakaya   \n",
       "11  air_6b15edd1b4fbb96a  Italian/French   \n",
       "12  air_eb120e6d384a17a8     Cafe/Sweets   \n",
       "13  air_32460819c7600037      Dining bar   \n",
       "14  air_04341b588bde96cd         Izakaya   \n",
       "15  air_03963426c9312048         Izakaya   \n",
       "16  air_dea0655f96947922      Dining bar   \n",
       "17  air_cb7467aed805e7fe         Izakaya   \n",
       "18  air_60a7057184ec7ec7         Izakaya   \n",
       "19  air_9152d9926e5c4a3a  Italian/French   \n",
       "\n",
       "                                   air_area_name   latitude   longitude  \n",
       "0                Ōsaka-fu Ōsaka-shi Kyūtarōmachi  34.681261  135.509801  \n",
       "1                 Tōkyō-to Shinjuku-ku Kabukichō  35.693840  139.703549  \n",
       "2   Hyōgo-ken Kakogawa-shi Kakogawachō Kitazaike  34.756950  134.841177  \n",
       "3              Shizuoka-ken Numazu-shi Miyukichō  35.095584  138.863493  \n",
       "4                    Tōkyō-to Shibuya-ku Shibuya  35.661777  139.704051  \n",
       "5                   Tōkyō-to Shibuya-ku Jingūmae  35.669290  139.707056  \n",
       "6                   Ōsaka-fu Ōsaka-shi Shinmachi  34.676231  135.486059  \n",
       "7                   Tōkyō-to Minato-ku Shibakōen  35.658068  139.751599  \n",
       "8                Fukuoka-ken Fukuoka-shi Momochi  33.581941  130.348436  \n",
       "9                 Tōkyō-to Shinjuku-ku Kabukichō  35.693840  139.703549  \n",
       "10               Tōkyō-to Chiyoda-ku Kudanminami  35.694003  139.753595  \n",
       "11       Shizuoka-ken Hamamatsu-shi Motoshirochō  34.710895  137.725940  \n",
       "12                Fukuoka-ken Fukuoka-shi Daimyō  33.589216  130.392813  \n",
       "13                  Ōsaka-fu Ōsaka-shi Shinmachi  34.676231  135.486059  \n",
       "14               Tōkyō-to Nerima-ku Toyotamakita  35.735623  139.651658  \n",
       "15    Hiroshima-ken Hiroshima-shi Kokutaijimachi  34.386245  132.455018  \n",
       "16                   Ōsaka-fu Ōsaka-shi Ōgimachi  34.705362  135.510025  \n",
       "17                Fukuoka-ken Fukuoka-shi Daimyō  33.589216  130.392813  \n",
       "18               Fukuoka-ken Fukuoka-shi Torikai  33.575686  130.369976  \n",
       "19                      Tōkyō-to Chūō-ku Tsukiji  35.670651  139.771861  "
      ]
     },
     "execution_count": 8,
     "metadata": {},
     "output_type": "execute_result"
    }
   ],
   "source": [
    "df_top20_ids_info"
   ]
  },
  {
   "cell_type": "markdown",
   "metadata": {},
   "source": [
    "### ... WITH VISITS"
   ]
  },
  {
   "cell_type": "code",
   "execution_count": 9,
   "metadata": {},
   "outputs": [],
   "source": [
    "df_top20_ids_info_visits = pd.merge(df_top20_ids_info, \n",
    "                                    df_air_visit_data, \n",
    "                                    how='left',\n",
    "                                    on=['air_store_id'])"
   ]
  },
  {
   "cell_type": "code",
   "execution_count": 10,
   "metadata": {},
   "outputs": [
    {
     "data": {
      "text/html": [
       "<div>\n",
       "<table border=\"1\" class=\"dataframe\">\n",
       "  <thead>\n",
       "    <tr style=\"text-align: right;\">\n",
       "      <th></th>\n",
       "      <th>air_store_id</th>\n",
       "      <th>air_genre_name</th>\n",
       "      <th>air_area_name</th>\n",
       "      <th>latitude</th>\n",
       "      <th>longitude</th>\n",
       "      <th>visit_date</th>\n",
       "      <th>visitors</th>\n",
       "    </tr>\n",
       "  </thead>\n",
       "  <tbody>\n",
       "    <tr>\n",
       "      <th>0</th>\n",
       "      <td>air_399904bdb7685ca0</td>\n",
       "      <td>Italian/French</td>\n",
       "      <td>Ōsaka-fu Ōsaka-shi Kyūtarōmachi</td>\n",
       "      <td>34.681261</td>\n",
       "      <td>135.509801</td>\n",
       "      <td>2016-01-05</td>\n",
       "      <td>4</td>\n",
       "    </tr>\n",
       "    <tr>\n",
       "      <th>1</th>\n",
       "      <td>air_399904bdb7685ca0</td>\n",
       "      <td>Italian/French</td>\n",
       "      <td>Ōsaka-fu Ōsaka-shi Kyūtarōmachi</td>\n",
       "      <td>34.681261</td>\n",
       "      <td>135.509801</td>\n",
       "      <td>2016-01-06</td>\n",
       "      <td>15</td>\n",
       "    </tr>\n",
       "    <tr>\n",
       "      <th>2</th>\n",
       "      <td>air_399904bdb7685ca0</td>\n",
       "      <td>Italian/French</td>\n",
       "      <td>Ōsaka-fu Ōsaka-shi Kyūtarōmachi</td>\n",
       "      <td>34.681261</td>\n",
       "      <td>135.509801</td>\n",
       "      <td>2016-01-07</td>\n",
       "      <td>26</td>\n",
       "    </tr>\n",
       "    <tr>\n",
       "      <th>3</th>\n",
       "      <td>air_399904bdb7685ca0</td>\n",
       "      <td>Italian/French</td>\n",
       "      <td>Ōsaka-fu Ōsaka-shi Kyūtarōmachi</td>\n",
       "      <td>34.681261</td>\n",
       "      <td>135.509801</td>\n",
       "      <td>2016-01-08</td>\n",
       "      <td>75</td>\n",
       "    </tr>\n",
       "    <tr>\n",
       "      <th>4</th>\n",
       "      <td>air_399904bdb7685ca0</td>\n",
       "      <td>Italian/French</td>\n",
       "      <td>Ōsaka-fu Ōsaka-shi Kyūtarōmachi</td>\n",
       "      <td>34.681261</td>\n",
       "      <td>135.509801</td>\n",
       "      <td>2016-01-09</td>\n",
       "      <td>91</td>\n",
       "    </tr>\n",
       "  </tbody>\n",
       "</table>\n",
       "</div>"
      ],
      "text/plain": [
       "           air_store_id  air_genre_name                    air_area_name  \\\n",
       "0  air_399904bdb7685ca0  Italian/French  Ōsaka-fu Ōsaka-shi Kyūtarōmachi   \n",
       "1  air_399904bdb7685ca0  Italian/French  Ōsaka-fu Ōsaka-shi Kyūtarōmachi   \n",
       "2  air_399904bdb7685ca0  Italian/French  Ōsaka-fu Ōsaka-shi Kyūtarōmachi   \n",
       "3  air_399904bdb7685ca0  Italian/French  Ōsaka-fu Ōsaka-shi Kyūtarōmachi   \n",
       "4  air_399904bdb7685ca0  Italian/French  Ōsaka-fu Ōsaka-shi Kyūtarōmachi   \n",
       "\n",
       "    latitude   longitude visit_date  visitors  \n",
       "0  34.681261  135.509801 2016-01-05         4  \n",
       "1  34.681261  135.509801 2016-01-06        15  \n",
       "2  34.681261  135.509801 2016-01-07        26  \n",
       "3  34.681261  135.509801 2016-01-08        75  \n",
       "4  34.681261  135.509801 2016-01-09        91  "
      ]
     },
     "execution_count": 10,
     "metadata": {},
     "output_type": "execute_result"
    }
   ],
   "source": [
    "df_top20_ids_info_visits.head()"
   ]
  },
  {
   "cell_type": "code",
   "execution_count": 11,
   "metadata": {},
   "outputs": [
    {
     "name": "stdout",
     "output_type": "stream",
     "text": [
      "<class 'pandas.core.frame.DataFrame'>\n",
      "Int64Index: 8763 entries, 0 to 8762\n",
      "Data columns (total 7 columns):\n",
      "air_store_id      8763 non-null object\n",
      "air_genre_name    8763 non-null object\n",
      "air_area_name     8763 non-null object\n",
      "latitude          8763 non-null float64\n",
      "longitude         8763 non-null float64\n",
      "visit_date        8763 non-null datetime64[ns]\n",
      "visitors          8763 non-null int64\n",
      "dtypes: datetime64[ns](1), float64(2), int64(1), object(3)\n",
      "memory usage: 547.7+ KB\n"
     ]
    }
   ],
   "source": [
    "df_top20_ids_info_visits.info()"
   ]
  },
  {
   "cell_type": "markdown",
   "metadata": {},
   "source": [
    "#### (PREPARE RESERVATIONS DATAFRAME)"
   ]
  },
  {
   "cell_type": "code",
   "execution_count": 12,
   "metadata": {},
   "outputs": [
    {
     "data": {
      "text/html": [
       "<div>\n",
       "<table border=\"1\" class=\"dataframe\">\n",
       "  <thead>\n",
       "    <tr style=\"text-align: right;\">\n",
       "      <th></th>\n",
       "      <th>air_store_id</th>\n",
       "      <th>visit_datetime</th>\n",
       "      <th>reserve_datetime</th>\n",
       "      <th>reserve_visitors</th>\n",
       "      <th>visit_date</th>\n",
       "    </tr>\n",
       "  </thead>\n",
       "  <tbody>\n",
       "    <tr>\n",
       "      <th>0</th>\n",
       "      <td>air_877f79706adbfb06</td>\n",
       "      <td>2016-01-01 19:00:00</td>\n",
       "      <td>2016-01-01 16:00:00</td>\n",
       "      <td>1</td>\n",
       "      <td>2016-01-01</td>\n",
       "    </tr>\n",
       "    <tr>\n",
       "      <th>1</th>\n",
       "      <td>air_db4b38ebe7a7ceff</td>\n",
       "      <td>2016-01-01 19:00:00</td>\n",
       "      <td>2016-01-01 19:00:00</td>\n",
       "      <td>3</td>\n",
       "      <td>2016-01-01</td>\n",
       "    </tr>\n",
       "    <tr>\n",
       "      <th>2</th>\n",
       "      <td>air_db4b38ebe7a7ceff</td>\n",
       "      <td>2016-01-01 19:00:00</td>\n",
       "      <td>2016-01-01 19:00:00</td>\n",
       "      <td>6</td>\n",
       "      <td>2016-01-01</td>\n",
       "    </tr>\n",
       "    <tr>\n",
       "      <th>3</th>\n",
       "      <td>air_877f79706adbfb06</td>\n",
       "      <td>2016-01-01 20:00:00</td>\n",
       "      <td>2016-01-01 16:00:00</td>\n",
       "      <td>2</td>\n",
       "      <td>2016-01-01</td>\n",
       "    </tr>\n",
       "    <tr>\n",
       "      <th>4</th>\n",
       "      <td>air_db80363d35f10926</td>\n",
       "      <td>2016-01-01 20:00:00</td>\n",
       "      <td>2016-01-01 01:00:00</td>\n",
       "      <td>5</td>\n",
       "      <td>2016-01-01</td>\n",
       "    </tr>\n",
       "  </tbody>\n",
       "</table>\n",
       "</div>"
      ],
      "text/plain": [
       "           air_store_id      visit_datetime    reserve_datetime  \\\n",
       "0  air_877f79706adbfb06 2016-01-01 19:00:00 2016-01-01 16:00:00   \n",
       "1  air_db4b38ebe7a7ceff 2016-01-01 19:00:00 2016-01-01 19:00:00   \n",
       "2  air_db4b38ebe7a7ceff 2016-01-01 19:00:00 2016-01-01 19:00:00   \n",
       "3  air_877f79706adbfb06 2016-01-01 20:00:00 2016-01-01 16:00:00   \n",
       "4  air_db80363d35f10926 2016-01-01 20:00:00 2016-01-01 01:00:00   \n",
       "\n",
       "   reserve_visitors visit_date  \n",
       "0                 1 2016-01-01  \n",
       "1                 3 2016-01-01  \n",
       "2                 6 2016-01-01  \n",
       "3                 2 2016-01-01  \n",
       "4                 5 2016-01-01  "
      ]
     },
     "execution_count": 12,
     "metadata": {},
     "output_type": "execute_result"
    }
   ],
   "source": [
    "df_air_reserve['visit_date'] = df_air_reserve['visit_datetime'].dt.date\n",
    "df_air_reserve['visit_date'] = pd.to_datetime(df_air_reserve['visit_date'])\n",
    "\n",
    "df_air_reserve.head()"
   ]
  },
  {
   "cell_type": "code",
   "execution_count": 13,
   "metadata": {},
   "outputs": [
    {
     "name": "stdout",
     "output_type": "stream",
     "text": [
      "<class 'pandas.core.frame.DataFrame'>\n",
      "RangeIndex: 92378 entries, 0 to 92377\n",
      "Data columns (total 5 columns):\n",
      "air_store_id        92378 non-null object\n",
      "visit_datetime      92378 non-null datetime64[ns]\n",
      "reserve_datetime    92378 non-null datetime64[ns]\n",
      "reserve_visitors    92378 non-null int64\n",
      "visit_date          92378 non-null datetime64[ns]\n",
      "dtypes: datetime64[ns](3), int64(1), object(1)\n",
      "memory usage: 3.5+ MB\n"
     ]
    }
   ],
   "source": [
    "df_air_reserve.info()"
   ]
  },
  {
   "cell_type": "code",
   "execution_count": 14,
   "metadata": {},
   "outputs": [
    {
     "data": {
      "text/html": [
       "<div>\n",
       "<table border=\"1\" class=\"dataframe\">\n",
       "  <thead>\n",
       "    <tr style=\"text-align: right;\">\n",
       "      <th></th>\n",
       "      <th>air_store_id</th>\n",
       "      <th>visit_date</th>\n",
       "      <th>air_reserve_visitors_sum</th>\n",
       "    </tr>\n",
       "  </thead>\n",
       "  <tbody>\n",
       "    <tr>\n",
       "      <th>0</th>\n",
       "      <td>air_00a91d42b08b08d9</td>\n",
       "      <td>2016-10-31</td>\n",
       "      <td>2</td>\n",
       "    </tr>\n",
       "    <tr>\n",
       "      <th>1</th>\n",
       "      <td>air_00a91d42b08b08d9</td>\n",
       "      <td>2016-12-05</td>\n",
       "      <td>9</td>\n",
       "    </tr>\n",
       "    <tr>\n",
       "      <th>2</th>\n",
       "      <td>air_00a91d42b08b08d9</td>\n",
       "      <td>2016-12-14</td>\n",
       "      <td>18</td>\n",
       "    </tr>\n",
       "    <tr>\n",
       "      <th>3</th>\n",
       "      <td>air_00a91d42b08b08d9</td>\n",
       "      <td>2016-12-17</td>\n",
       "      <td>2</td>\n",
       "    </tr>\n",
       "    <tr>\n",
       "      <th>4</th>\n",
       "      <td>air_00a91d42b08b08d9</td>\n",
       "      <td>2016-12-20</td>\n",
       "      <td>4</td>\n",
       "    </tr>\n",
       "  </tbody>\n",
       "</table>\n",
       "</div>"
      ],
      "text/plain": [
       "           air_store_id visit_date  air_reserve_visitors_sum\n",
       "0  air_00a91d42b08b08d9 2016-10-31                         2\n",
       "1  air_00a91d42b08b08d9 2016-12-05                         9\n",
       "2  air_00a91d42b08b08d9 2016-12-14                        18\n",
       "3  air_00a91d42b08b08d9 2016-12-17                         2\n",
       "4  air_00a91d42b08b08d9 2016-12-20                         4"
      ]
     },
     "execution_count": 14,
     "metadata": {},
     "output_type": "execute_result"
    }
   ],
   "source": [
    "# The restaurants sorted by overall number of reserve visitors\n",
    "df1 = df_air_reserve.groupby(['air_store_id','visit_date'])['reserve_visitors'] \\\n",
    "                    .agg({\"reserve_visitors_sum\": \"sum\"}) \n",
    "    \n",
    "df_reservation_data = pd.DataFrame({'air_reserve_visitors_sum' : df1['reserve_visitors_sum']}).reset_index()\n",
    "df_reservation_data.head()"
   ]
  },
  {
   "cell_type": "code",
   "execution_count": 15,
   "metadata": {},
   "outputs": [
    {
     "name": "stdout",
     "output_type": "stream",
     "text": [
      "<class 'pandas.core.frame.DataFrame'>\n",
      "RangeIndex: 29830 entries, 0 to 29829\n",
      "Data columns (total 3 columns):\n",
      "air_store_id                29830 non-null object\n",
      "visit_date                  29830 non-null datetime64[ns]\n",
      "air_reserve_visitors_sum    29830 non-null int64\n",
      "dtypes: datetime64[ns](1), int64(1), object(1)\n",
      "memory usage: 699.2+ KB\n"
     ]
    }
   ],
   "source": [
    "df_reservation_data.info()"
   ]
  },
  {
   "cell_type": "markdown",
   "metadata": {},
   "source": [
    "### ... WITH RESERVATIONS"
   ]
  },
  {
   "cell_type": "code",
   "execution_count": 16,
   "metadata": {},
   "outputs": [],
   "source": [
    "df_top20_ids_info_visits_reservations = pd.merge(df_top20_ids_info_visits, \n",
    "                                                 df_reservation_data, \n",
    "                                                 how='left',\n",
    "                                                 on=['air_store_id','visit_date'])"
   ]
  },
  {
   "cell_type": "code",
   "execution_count": 17,
   "metadata": {},
   "outputs": [
    {
     "data": {
      "text/html": [
       "<div>\n",
       "<table border=\"1\" class=\"dataframe\">\n",
       "  <thead>\n",
       "    <tr style=\"text-align: right;\">\n",
       "      <th></th>\n",
       "      <th>air_store_id</th>\n",
       "      <th>air_genre_name</th>\n",
       "      <th>air_area_name</th>\n",
       "      <th>latitude</th>\n",
       "      <th>longitude</th>\n",
       "      <th>visit_date</th>\n",
       "      <th>visitors</th>\n",
       "      <th>air_reserve_visitors_sum</th>\n",
       "    </tr>\n",
       "  </thead>\n",
       "  <tbody>\n",
       "    <tr>\n",
       "      <th>0</th>\n",
       "      <td>air_399904bdb7685ca0</td>\n",
       "      <td>Italian/French</td>\n",
       "      <td>Ōsaka-fu Ōsaka-shi Kyūtarōmachi</td>\n",
       "      <td>34.681261</td>\n",
       "      <td>135.509801</td>\n",
       "      <td>2016-01-05</td>\n",
       "      <td>4</td>\n",
       "      <td>NaN</td>\n",
       "    </tr>\n",
       "    <tr>\n",
       "      <th>1</th>\n",
       "      <td>air_399904bdb7685ca0</td>\n",
       "      <td>Italian/French</td>\n",
       "      <td>Ōsaka-fu Ōsaka-shi Kyūtarōmachi</td>\n",
       "      <td>34.681261</td>\n",
       "      <td>135.509801</td>\n",
       "      <td>2016-01-06</td>\n",
       "      <td>15</td>\n",
       "      <td>NaN</td>\n",
       "    </tr>\n",
       "    <tr>\n",
       "      <th>2</th>\n",
       "      <td>air_399904bdb7685ca0</td>\n",
       "      <td>Italian/French</td>\n",
       "      <td>Ōsaka-fu Ōsaka-shi Kyūtarōmachi</td>\n",
       "      <td>34.681261</td>\n",
       "      <td>135.509801</td>\n",
       "      <td>2016-01-07</td>\n",
       "      <td>26</td>\n",
       "      <td>NaN</td>\n",
       "    </tr>\n",
       "    <tr>\n",
       "      <th>3</th>\n",
       "      <td>air_399904bdb7685ca0</td>\n",
       "      <td>Italian/French</td>\n",
       "      <td>Ōsaka-fu Ōsaka-shi Kyūtarōmachi</td>\n",
       "      <td>34.681261</td>\n",
       "      <td>135.509801</td>\n",
       "      <td>2016-01-08</td>\n",
       "      <td>75</td>\n",
       "      <td>NaN</td>\n",
       "    </tr>\n",
       "    <tr>\n",
       "      <th>4</th>\n",
       "      <td>air_399904bdb7685ca0</td>\n",
       "      <td>Italian/French</td>\n",
       "      <td>Ōsaka-fu Ōsaka-shi Kyūtarōmachi</td>\n",
       "      <td>34.681261</td>\n",
       "      <td>135.509801</td>\n",
       "      <td>2016-01-09</td>\n",
       "      <td>91</td>\n",
       "      <td>NaN</td>\n",
       "    </tr>\n",
       "  </tbody>\n",
       "</table>\n",
       "</div>"
      ],
      "text/plain": [
       "           air_store_id  air_genre_name                    air_area_name  \\\n",
       "0  air_399904bdb7685ca0  Italian/French  Ōsaka-fu Ōsaka-shi Kyūtarōmachi   \n",
       "1  air_399904bdb7685ca0  Italian/French  Ōsaka-fu Ōsaka-shi Kyūtarōmachi   \n",
       "2  air_399904bdb7685ca0  Italian/French  Ōsaka-fu Ōsaka-shi Kyūtarōmachi   \n",
       "3  air_399904bdb7685ca0  Italian/French  Ōsaka-fu Ōsaka-shi Kyūtarōmachi   \n",
       "4  air_399904bdb7685ca0  Italian/French  Ōsaka-fu Ōsaka-shi Kyūtarōmachi   \n",
       "\n",
       "    latitude   longitude visit_date  visitors  air_reserve_visitors_sum  \n",
       "0  34.681261  135.509801 2016-01-05         4                       NaN  \n",
       "1  34.681261  135.509801 2016-01-06        15                       NaN  \n",
       "2  34.681261  135.509801 2016-01-07        26                       NaN  \n",
       "3  34.681261  135.509801 2016-01-08        75                       NaN  \n",
       "4  34.681261  135.509801 2016-01-09        91                       NaN  "
      ]
     },
     "execution_count": 17,
     "metadata": {},
     "output_type": "execute_result"
    }
   ],
   "source": [
    "df_top20_ids_info_visits_reservations.head(5)"
   ]
  },
  {
   "cell_type": "code",
   "execution_count": 18,
   "metadata": {},
   "outputs": [
    {
     "name": "stdout",
     "output_type": "stream",
     "text": [
      "<class 'pandas.core.frame.DataFrame'>\n",
      "Int64Index: 8763 entries, 0 to 8762\n",
      "Data columns (total 8 columns):\n",
      "air_store_id                8763 non-null object\n",
      "air_genre_name              8763 non-null object\n",
      "air_area_name               8763 non-null object\n",
      "latitude                    8763 non-null float64\n",
      "longitude                   8763 non-null float64\n",
      "visit_date                  8763 non-null datetime64[ns]\n",
      "visitors                    8763 non-null int64\n",
      "air_reserve_visitors_sum    1513 non-null float64\n",
      "dtypes: datetime64[ns](1), float64(3), int64(1), object(3)\n",
      "memory usage: 616.1+ KB\n"
     ]
    }
   ],
   "source": [
    "df_top20_ids_info_visits_reservations.info()"
   ]
  },
  {
   "cell_type": "markdown",
   "metadata": {},
   "source": [
    "#### Post-merge data verification..."
   ]
  },
  {
   "cell_type": "markdown",
   "metadata": {},
   "source": [
    "The last column `reserve_visitors_sum` contains some NaN values so I need to investigate why this happens."
   ]
  },
  {
   "cell_type": "code",
   "execution_count": 19,
   "metadata": {},
   "outputs": [
    {
     "data": {
      "text/html": [
       "<div>\n",
       "<table border=\"1\" class=\"dataframe\">\n",
       "  <thead>\n",
       "    <tr style=\"text-align: right;\">\n",
       "      <th></th>\n",
       "      <th>air_store_id</th>\n",
       "      <th>air_genre_name</th>\n",
       "      <th>air_area_name</th>\n",
       "      <th>latitude</th>\n",
       "      <th>longitude</th>\n",
       "      <th>visit_date</th>\n",
       "      <th>visitors</th>\n",
       "      <th>air_reserve_visitors_sum</th>\n",
       "    </tr>\n",
       "  </thead>\n",
       "  <tbody>\n",
       "    <tr>\n",
       "      <th>0</th>\n",
       "      <td>air_399904bdb7685ca0</td>\n",
       "      <td>Italian/French</td>\n",
       "      <td>Ōsaka-fu Ōsaka-shi Kyūtarōmachi</td>\n",
       "      <td>34.681261</td>\n",
       "      <td>135.509801</td>\n",
       "      <td>2016-01-05</td>\n",
       "      <td>4</td>\n",
       "      <td>NaN</td>\n",
       "    </tr>\n",
       "  </tbody>\n",
       "</table>\n",
       "</div>"
      ],
      "text/plain": [
       "           air_store_id  air_genre_name                    air_area_name  \\\n",
       "0  air_399904bdb7685ca0  Italian/French  Ōsaka-fu Ōsaka-shi Kyūtarōmachi   \n",
       "\n",
       "    latitude   longitude visit_date  visitors  air_reserve_visitors_sum  \n",
       "0  34.681261  135.509801 2016-01-05         4                       NaN  "
      ]
     },
     "execution_count": 19,
     "metadata": {},
     "output_type": "execute_result"
    }
   ],
   "source": [
    "# Lets take first 'air_store_id' and first 'visit_date' \n",
    "# for whom the df_top20_ids_info_visits_reservations['reserve_visitors_sum'] is NaN.\n",
    "df_top20_ids_info_visits_reservations[ (df_top20_ids_info_visits_reservations['air_store_id'] == 'air_399904bdb7685ca0') & \\\n",
    "                                       (df_top20_ids_info_visits_reservations['visit_date'] == '2016-01-05')]"
   ]
  },
  {
   "cell_type": "code",
   "execution_count": 20,
   "metadata": {},
   "outputs": [
    {
     "data": {
      "text/html": [
       "<div>\n",
       "<table border=\"1\" class=\"dataframe\">\n",
       "  <thead>\n",
       "    <tr style=\"text-align: right;\">\n",
       "      <th></th>\n",
       "      <th>air_store_id</th>\n",
       "      <th>visit_date</th>\n",
       "      <th>air_reserve_visitors_sum</th>\n",
       "    </tr>\n",
       "  </thead>\n",
       "  <tbody>\n",
       "  </tbody>\n",
       "</table>\n",
       "</div>"
      ],
      "text/plain": [
       "Empty DataFrame\n",
       "Columns: [air_store_id, visit_date, air_reserve_visitors_sum]\n",
       "Index: []"
      ]
     },
     "execution_count": 20,
     "metadata": {},
     "output_type": "execute_result"
    }
   ],
   "source": [
    "# Let's see if we have any reservation record for the restaurant on particular day\n",
    "df_reservation_data[ (df_reservation_data['air_store_id'] == 'air_399904bdb7685ca0') & \\\n",
    "                     (df_reservation_data['visit_date'] == '2016-01-05')]"
   ]
  },
  {
   "cell_type": "code",
   "execution_count": 21,
   "metadata": {},
   "outputs": [
    {
     "data": {
      "text/html": [
       "<div>\n",
       "<table border=\"1\" class=\"dataframe\">\n",
       "  <thead>\n",
       "    <tr style=\"text-align: right;\">\n",
       "      <th></th>\n",
       "      <th>air_store_id</th>\n",
       "      <th>visit_date</th>\n",
       "      <th>air_reserve_visitors_sum</th>\n",
       "    </tr>\n",
       "  </thead>\n",
       "  <tbody>\n",
       "    <tr>\n",
       "      <th>7469</th>\n",
       "      <td>air_399904bdb7685ca0</td>\n",
       "      <td>2016-10-27</td>\n",
       "      <td>15</td>\n",
       "    </tr>\n",
       "    <tr>\n",
       "      <th>7470</th>\n",
       "      <td>air_399904bdb7685ca0</td>\n",
       "      <td>2016-10-28</td>\n",
       "      <td>17</td>\n",
       "    </tr>\n",
       "    <tr>\n",
       "      <th>7471</th>\n",
       "      <td>air_399904bdb7685ca0</td>\n",
       "      <td>2016-10-31</td>\n",
       "      <td>10</td>\n",
       "    </tr>\n",
       "    <tr>\n",
       "      <th>7472</th>\n",
       "      <td>air_399904bdb7685ca0</td>\n",
       "      <td>2016-11-04</td>\n",
       "      <td>5</td>\n",
       "    </tr>\n",
       "    <tr>\n",
       "      <th>7473</th>\n",
       "      <td>air_399904bdb7685ca0</td>\n",
       "      <td>2016-11-06</td>\n",
       "      <td>10</td>\n",
       "    </tr>\n",
       "  </tbody>\n",
       "</table>\n",
       "</div>"
      ],
      "text/plain": [
       "              air_store_id visit_date  air_reserve_visitors_sum\n",
       "7469  air_399904bdb7685ca0 2016-10-27                        15\n",
       "7470  air_399904bdb7685ca0 2016-10-28                        17\n",
       "7471  air_399904bdb7685ca0 2016-10-31                        10\n",
       "7472  air_399904bdb7685ca0 2016-11-04                         5\n",
       "7473  air_399904bdb7685ca0 2016-11-06                        10"
      ]
     },
     "execution_count": 21,
     "metadata": {},
     "output_type": "execute_result"
    }
   ],
   "source": [
    "# Let's check earliest reservations records for the restaurant\n",
    "df_reservation_data[(df_reservation_data['air_store_id'] == 'air_399904bdb7685ca0')] \\\n",
    "    .sort_values(by=['visit_date'], ascending=[1]) \\\n",
    "    .head(5)"
   ]
  },
  {
   "cell_type": "code",
   "execution_count": 22,
   "metadata": {},
   "outputs": [
    {
     "data": {
      "text/html": [
       "<div>\n",
       "<table border=\"1\" class=\"dataframe\">\n",
       "  <thead>\n",
       "    <tr style=\"text-align: right;\">\n",
       "      <th></th>\n",
       "      <th>air_store_id</th>\n",
       "      <th>visit_datetime</th>\n",
       "      <th>reserve_datetime</th>\n",
       "      <th>reserve_visitors</th>\n",
       "      <th>visit_date</th>\n",
       "    </tr>\n",
       "  </thead>\n",
       "  <tbody>\n",
       "    <tr>\n",
       "      <th>16446</th>\n",
       "      <td>air_399904bdb7685ca0</td>\n",
       "      <td>2016-10-27 21:00:00</td>\n",
       "      <td>2016-10-27 16:00:00</td>\n",
       "      <td>4</td>\n",
       "      <td>2016-10-27</td>\n",
       "    </tr>\n",
       "    <tr>\n",
       "      <th>16447</th>\n",
       "      <td>air_399904bdb7685ca0</td>\n",
       "      <td>2016-10-27 21:00:00</td>\n",
       "      <td>2016-10-21 21:00:00</td>\n",
       "      <td>11</td>\n",
       "      <td>2016-10-27</td>\n",
       "    </tr>\n",
       "    <tr>\n",
       "      <th>16573</th>\n",
       "      <td>air_399904bdb7685ca0</td>\n",
       "      <td>2016-10-28 18:00:00</td>\n",
       "      <td>2016-10-27 20:00:00</td>\n",
       "      <td>2</td>\n",
       "      <td>2016-10-28</td>\n",
       "    </tr>\n",
       "    <tr>\n",
       "      <th>16757</th>\n",
       "      <td>air_399904bdb7685ca0</td>\n",
       "      <td>2016-10-28 19:00:00</td>\n",
       "      <td>2016-10-27 23:00:00</td>\n",
       "      <td>2</td>\n",
       "      <td>2016-10-28</td>\n",
       "    </tr>\n",
       "    <tr>\n",
       "      <th>16860</th>\n",
       "      <td>air_399904bdb7685ca0</td>\n",
       "      <td>2016-10-28 20:00:00</td>\n",
       "      <td>2016-10-27 16:00:00</td>\n",
       "      <td>4</td>\n",
       "      <td>2016-10-28</td>\n",
       "    </tr>\n",
       "  </tbody>\n",
       "</table>\n",
       "</div>"
      ],
      "text/plain": [
       "               air_store_id      visit_datetime    reserve_datetime  \\\n",
       "16446  air_399904bdb7685ca0 2016-10-27 21:00:00 2016-10-27 16:00:00   \n",
       "16447  air_399904bdb7685ca0 2016-10-27 21:00:00 2016-10-21 21:00:00   \n",
       "16573  air_399904bdb7685ca0 2016-10-28 18:00:00 2016-10-27 20:00:00   \n",
       "16757  air_399904bdb7685ca0 2016-10-28 19:00:00 2016-10-27 23:00:00   \n",
       "16860  air_399904bdb7685ca0 2016-10-28 20:00:00 2016-10-27 16:00:00   \n",
       "\n",
       "       reserve_visitors visit_date  \n",
       "16446                 4 2016-10-27  \n",
       "16447                11 2016-10-27  \n",
       "16573                 2 2016-10-28  \n",
       "16757                 2 2016-10-28  \n",
       "16860                 4 2016-10-28  "
      ]
     },
     "execution_count": 22,
     "metadata": {},
     "output_type": "execute_result"
    }
   ],
   "source": [
    "df_air_reserve[df_air_reserve['air_store_id'] == 'air_399904bdb7685ca0'].head(5)"
   ]
  },
  {
   "cell_type": "markdown",
   "metadata": {},
   "source": [
    "Apparently, the NaN values in the `df_top20_ids_info_visits_reservations['reserve_visitors_sum']` column dataframe are caused by missing data in the provided data."
   ]
  },
  {
   "cell_type": "markdown",
   "metadata": {},
   "source": [
    "### HPG"
   ]
  },
  {
   "cell_type": "markdown",
   "metadata": {},
   "source": [
    "The HPG data will be only partially included in the dataset for my experiment.\n",
    "\n",
    "Reasons:\n",
    "* The submission file contains only `air_store_id ` and does not contain information about `hpg_store_id`.\n",
    "* The HPG data provide only information about reservations, they do not provide information about visitors that really have come to restaurants.\n",
    "* My first attempt will initially focus on predicting number of visitors"
   ]
  },
  {
   "cell_type": "markdown",
   "metadata": {},
   "source": [
    "#### (PREPARE RESERVATIONS DATAFRAME)"
   ]
  },
  {
   "cell_type": "code",
   "execution_count": 23,
   "metadata": {},
   "outputs": [
    {
     "name": "stdout",
     "output_type": "stream",
     "text": [
      "<class 'pandas.core.frame.DataFrame'>\n",
      "RangeIndex: 2000320 entries, 0 to 2000319\n",
      "Data columns (total 4 columns):\n",
      "hpg_store_id        object\n",
      "visit_datetime      datetime64[ns]\n",
      "reserve_datetime    datetime64[ns]\n",
      "reserve_visitors    int64\n",
      "dtypes: datetime64[ns](2), int64(1), object(1)\n",
      "memory usage: 61.0+ MB\n"
     ]
    }
   ],
   "source": [
    "df_hpg_reserve.info()"
   ]
  },
  {
   "cell_type": "code",
   "execution_count": 24,
   "metadata": {},
   "outputs": [
    {
     "data": {
      "text/html": [
       "<div>\n",
       "<table border=\"1\" class=\"dataframe\">\n",
       "  <thead>\n",
       "    <tr style=\"text-align: right;\">\n",
       "      <th></th>\n",
       "      <th>hpg_store_id</th>\n",
       "      <th>visit_datetime</th>\n",
       "      <th>reserve_datetime</th>\n",
       "      <th>reserve_visitors</th>\n",
       "      <th>visit_date</th>\n",
       "    </tr>\n",
       "  </thead>\n",
       "  <tbody>\n",
       "    <tr>\n",
       "      <th>0</th>\n",
       "      <td>hpg_c63f6f42e088e50f</td>\n",
       "      <td>2016-01-01 11:00:00</td>\n",
       "      <td>2016-01-01 09:00:00</td>\n",
       "      <td>1</td>\n",
       "      <td>2016-01-01</td>\n",
       "    </tr>\n",
       "    <tr>\n",
       "      <th>1</th>\n",
       "      <td>hpg_dac72789163a3f47</td>\n",
       "      <td>2016-01-01 13:00:00</td>\n",
       "      <td>2016-01-01 06:00:00</td>\n",
       "      <td>3</td>\n",
       "      <td>2016-01-01</td>\n",
       "    </tr>\n",
       "    <tr>\n",
       "      <th>2</th>\n",
       "      <td>hpg_c8e24dcf51ca1eb5</td>\n",
       "      <td>2016-01-01 16:00:00</td>\n",
       "      <td>2016-01-01 14:00:00</td>\n",
       "      <td>2</td>\n",
       "      <td>2016-01-01</td>\n",
       "    </tr>\n",
       "    <tr>\n",
       "      <th>3</th>\n",
       "      <td>hpg_24bb207e5fd49d4a</td>\n",
       "      <td>2016-01-01 17:00:00</td>\n",
       "      <td>2016-01-01 11:00:00</td>\n",
       "      <td>5</td>\n",
       "      <td>2016-01-01</td>\n",
       "    </tr>\n",
       "    <tr>\n",
       "      <th>4</th>\n",
       "      <td>hpg_25291c542ebb3bc2</td>\n",
       "      <td>2016-01-01 17:00:00</td>\n",
       "      <td>2016-01-01 03:00:00</td>\n",
       "      <td>13</td>\n",
       "      <td>2016-01-01</td>\n",
       "    </tr>\n",
       "  </tbody>\n",
       "</table>\n",
       "</div>"
      ],
      "text/plain": [
       "           hpg_store_id      visit_datetime    reserve_datetime  \\\n",
       "0  hpg_c63f6f42e088e50f 2016-01-01 11:00:00 2016-01-01 09:00:00   \n",
       "1  hpg_dac72789163a3f47 2016-01-01 13:00:00 2016-01-01 06:00:00   \n",
       "2  hpg_c8e24dcf51ca1eb5 2016-01-01 16:00:00 2016-01-01 14:00:00   \n",
       "3  hpg_24bb207e5fd49d4a 2016-01-01 17:00:00 2016-01-01 11:00:00   \n",
       "4  hpg_25291c542ebb3bc2 2016-01-01 17:00:00 2016-01-01 03:00:00   \n",
       "\n",
       "   reserve_visitors visit_date  \n",
       "0                 1 2016-01-01  \n",
       "1                 3 2016-01-01  \n",
       "2                 2 2016-01-01  \n",
       "3                 5 2016-01-01  \n",
       "4                13 2016-01-01  "
      ]
     },
     "execution_count": 24,
     "metadata": {},
     "output_type": "execute_result"
    }
   ],
   "source": [
    "df_hpg_reserve['visit_date'] = df_hpg_reserve['visit_datetime'].dt.date\n",
    "df_hpg_reserve['visit_date'] = pd.to_datetime(df_hpg_reserve['visit_date'])\n",
    "\n",
    "df_hpg_reserve.head()"
   ]
  },
  {
   "cell_type": "code",
   "execution_count": 25,
   "metadata": {},
   "outputs": [
    {
     "data": {
      "text/html": [
       "<div>\n",
       "<table border=\"1\" class=\"dataframe\">\n",
       "  <thead>\n",
       "    <tr style=\"text-align: right;\">\n",
       "      <th></th>\n",
       "      <th>hpg_store_id</th>\n",
       "      <th>visit_date</th>\n",
       "      <th>hpg_reserve_visitors_sum</th>\n",
       "    </tr>\n",
       "  </thead>\n",
       "  <tbody>\n",
       "    <tr>\n",
       "      <th>0</th>\n",
       "      <td>hpg_001112ef76b9802c</td>\n",
       "      <td>2016-02-26</td>\n",
       "      <td>9</td>\n",
       "    </tr>\n",
       "    <tr>\n",
       "      <th>1</th>\n",
       "      <td>hpg_001112ef76b9802c</td>\n",
       "      <td>2016-03-17</td>\n",
       "      <td>3</td>\n",
       "    </tr>\n",
       "    <tr>\n",
       "      <th>2</th>\n",
       "      <td>hpg_001112ef76b9802c</td>\n",
       "      <td>2016-03-31</td>\n",
       "      <td>5</td>\n",
       "    </tr>\n",
       "    <tr>\n",
       "      <th>3</th>\n",
       "      <td>hpg_001112ef76b9802c</td>\n",
       "      <td>2016-04-05</td>\n",
       "      <td>13</td>\n",
       "    </tr>\n",
       "    <tr>\n",
       "      <th>4</th>\n",
       "      <td>hpg_001112ef76b9802c</td>\n",
       "      <td>2016-04-18</td>\n",
       "      <td>9</td>\n",
       "    </tr>\n",
       "  </tbody>\n",
       "</table>\n",
       "</div>"
      ],
      "text/plain": [
       "           hpg_store_id visit_date  hpg_reserve_visitors_sum\n",
       "0  hpg_001112ef76b9802c 2016-02-26                         9\n",
       "1  hpg_001112ef76b9802c 2016-03-17                         3\n",
       "2  hpg_001112ef76b9802c 2016-03-31                         5\n",
       "3  hpg_001112ef76b9802c 2016-04-05                        13\n",
       "4  hpg_001112ef76b9802c 2016-04-18                         9"
      ]
     },
     "execution_count": 25,
     "metadata": {},
     "output_type": "execute_result"
    }
   ],
   "source": [
    "# The restaurants sorted by overall number of reserve visitors\n",
    "df2 = df_hpg_reserve.groupby(['hpg_store_id','visit_date'])['reserve_visitors'] \\\n",
    "                    .agg({\"reserve_visitors_sum\": \"sum\"}) \n",
    "    \n",
    "df_hpg_reservation_data = pd.DataFrame({'hpg_reserve_visitors_sum' : df2['reserve_visitors_sum']}).reset_index()\n",
    "df_hpg_reservation_data.head()"
   ]
  },
  {
   "cell_type": "code",
   "execution_count": null,
   "metadata": {},
   "outputs": [],
   "source": []
  },
  {
   "cell_type": "code",
   "execution_count": 26,
   "metadata": {},
   "outputs": [],
   "source": [
    "# for brevity I'll introduce new name\n",
    "df_top20 = df_top20_ids_info_visits_reservations"
   ]
  },
  {
   "cell_type": "markdown",
   "metadata": {},
   "source": [
    "### ... WITH HPG"
   ]
  },
  {
   "cell_type": "code",
   "execution_count": 27,
   "metadata": {},
   "outputs": [],
   "source": [
    "df_top20_hpg = pd.merge(df_top20, \n",
    "                        df_store_id_relation, \n",
    "                        how='left',\n",
    "                        on=['air_store_id'])"
   ]
  },
  {
   "cell_type": "code",
   "execution_count": 28,
   "metadata": {},
   "outputs": [
    {
     "data": {
      "text/html": [
       "<div>\n",
       "<table border=\"1\" class=\"dataframe\">\n",
       "  <thead>\n",
       "    <tr style=\"text-align: right;\">\n",
       "      <th></th>\n",
       "      <th>air_store_id</th>\n",
       "      <th>air_genre_name</th>\n",
       "      <th>air_area_name</th>\n",
       "      <th>latitude</th>\n",
       "      <th>longitude</th>\n",
       "      <th>visit_date</th>\n",
       "      <th>visitors</th>\n",
       "      <th>air_reserve_visitors_sum</th>\n",
       "      <th>hpg_store_id</th>\n",
       "    </tr>\n",
       "  </thead>\n",
       "  <tbody>\n",
       "    <tr>\n",
       "      <th>0</th>\n",
       "      <td>air_399904bdb7685ca0</td>\n",
       "      <td>Italian/French</td>\n",
       "      <td>Ōsaka-fu Ōsaka-shi Kyūtarōmachi</td>\n",
       "      <td>34.681261</td>\n",
       "      <td>135.509801</td>\n",
       "      <td>2016-01-05</td>\n",
       "      <td>4</td>\n",
       "      <td>NaN</td>\n",
       "      <td>NaN</td>\n",
       "    </tr>\n",
       "    <tr>\n",
       "      <th>1</th>\n",
       "      <td>air_399904bdb7685ca0</td>\n",
       "      <td>Italian/French</td>\n",
       "      <td>Ōsaka-fu Ōsaka-shi Kyūtarōmachi</td>\n",
       "      <td>34.681261</td>\n",
       "      <td>135.509801</td>\n",
       "      <td>2016-01-06</td>\n",
       "      <td>15</td>\n",
       "      <td>NaN</td>\n",
       "      <td>NaN</td>\n",
       "    </tr>\n",
       "    <tr>\n",
       "      <th>2</th>\n",
       "      <td>air_399904bdb7685ca0</td>\n",
       "      <td>Italian/French</td>\n",
       "      <td>Ōsaka-fu Ōsaka-shi Kyūtarōmachi</td>\n",
       "      <td>34.681261</td>\n",
       "      <td>135.509801</td>\n",
       "      <td>2016-01-07</td>\n",
       "      <td>26</td>\n",
       "      <td>NaN</td>\n",
       "      <td>NaN</td>\n",
       "    </tr>\n",
       "    <tr>\n",
       "      <th>3</th>\n",
       "      <td>air_399904bdb7685ca0</td>\n",
       "      <td>Italian/French</td>\n",
       "      <td>Ōsaka-fu Ōsaka-shi Kyūtarōmachi</td>\n",
       "      <td>34.681261</td>\n",
       "      <td>135.509801</td>\n",
       "      <td>2016-01-08</td>\n",
       "      <td>75</td>\n",
       "      <td>NaN</td>\n",
       "      <td>NaN</td>\n",
       "    </tr>\n",
       "    <tr>\n",
       "      <th>4</th>\n",
       "      <td>air_399904bdb7685ca0</td>\n",
       "      <td>Italian/French</td>\n",
       "      <td>Ōsaka-fu Ōsaka-shi Kyūtarōmachi</td>\n",
       "      <td>34.681261</td>\n",
       "      <td>135.509801</td>\n",
       "      <td>2016-01-09</td>\n",
       "      <td>91</td>\n",
       "      <td>NaN</td>\n",
       "      <td>NaN</td>\n",
       "    </tr>\n",
       "  </tbody>\n",
       "</table>\n",
       "</div>"
      ],
      "text/plain": [
       "           air_store_id  air_genre_name                    air_area_name  \\\n",
       "0  air_399904bdb7685ca0  Italian/French  Ōsaka-fu Ōsaka-shi Kyūtarōmachi   \n",
       "1  air_399904bdb7685ca0  Italian/French  Ōsaka-fu Ōsaka-shi Kyūtarōmachi   \n",
       "2  air_399904bdb7685ca0  Italian/French  Ōsaka-fu Ōsaka-shi Kyūtarōmachi   \n",
       "3  air_399904bdb7685ca0  Italian/French  Ōsaka-fu Ōsaka-shi Kyūtarōmachi   \n",
       "4  air_399904bdb7685ca0  Italian/French  Ōsaka-fu Ōsaka-shi Kyūtarōmachi   \n",
       "\n",
       "    latitude   longitude visit_date  visitors  air_reserve_visitors_sum  \\\n",
       "0  34.681261  135.509801 2016-01-05         4                       NaN   \n",
       "1  34.681261  135.509801 2016-01-06        15                       NaN   \n",
       "2  34.681261  135.509801 2016-01-07        26                       NaN   \n",
       "3  34.681261  135.509801 2016-01-08        75                       NaN   \n",
       "4  34.681261  135.509801 2016-01-09        91                       NaN   \n",
       "\n",
       "  hpg_store_id  \n",
       "0          NaN  \n",
       "1          NaN  \n",
       "2          NaN  \n",
       "3          NaN  \n",
       "4          NaN  "
      ]
     },
     "execution_count": 28,
     "metadata": {},
     "output_type": "execute_result"
    }
   ],
   "source": [
    "df_top20_hpg.head()"
   ]
  },
  {
   "cell_type": "markdown",
   "metadata": {},
   "source": [
    "### ... WITH HPG RESERVATIONS"
   ]
  },
  {
   "cell_type": "code",
   "execution_count": 29,
   "metadata": {},
   "outputs": [],
   "source": [
    "df_top20_hpg_reservations = pd.merge(df_top20_hpg, \n",
    "                                     df_hpg_reservation_data, \n",
    "                                     how='left',\n",
    "                                     on=['hpg_store_id', 'visit_date'])"
   ]
  },
  {
   "cell_type": "code",
   "execution_count": 30,
   "metadata": {},
   "outputs": [
    {
     "data": {
      "text/html": [
       "<div>\n",
       "<table border=\"1\" class=\"dataframe\">\n",
       "  <thead>\n",
       "    <tr style=\"text-align: right;\">\n",
       "      <th></th>\n",
       "      <th>air_store_id</th>\n",
       "      <th>air_genre_name</th>\n",
       "      <th>air_area_name</th>\n",
       "      <th>latitude</th>\n",
       "      <th>longitude</th>\n",
       "      <th>visit_date</th>\n",
       "      <th>visitors</th>\n",
       "      <th>air_reserve_visitors_sum</th>\n",
       "      <th>hpg_store_id</th>\n",
       "      <th>hpg_reserve_visitors_sum</th>\n",
       "    </tr>\n",
       "  </thead>\n",
       "  <tbody>\n",
       "    <tr>\n",
       "      <th>0</th>\n",
       "      <td>air_399904bdb7685ca0</td>\n",
       "      <td>Italian/French</td>\n",
       "      <td>Ōsaka-fu Ōsaka-shi Kyūtarōmachi</td>\n",
       "      <td>34.681261</td>\n",
       "      <td>135.509801</td>\n",
       "      <td>2016-01-05</td>\n",
       "      <td>4</td>\n",
       "      <td>NaN</td>\n",
       "      <td>NaN</td>\n",
       "      <td>NaN</td>\n",
       "    </tr>\n",
       "    <tr>\n",
       "      <th>1</th>\n",
       "      <td>air_399904bdb7685ca0</td>\n",
       "      <td>Italian/French</td>\n",
       "      <td>Ōsaka-fu Ōsaka-shi Kyūtarōmachi</td>\n",
       "      <td>34.681261</td>\n",
       "      <td>135.509801</td>\n",
       "      <td>2016-01-06</td>\n",
       "      <td>15</td>\n",
       "      <td>NaN</td>\n",
       "      <td>NaN</td>\n",
       "      <td>NaN</td>\n",
       "    </tr>\n",
       "    <tr>\n",
       "      <th>2</th>\n",
       "      <td>air_399904bdb7685ca0</td>\n",
       "      <td>Italian/French</td>\n",
       "      <td>Ōsaka-fu Ōsaka-shi Kyūtarōmachi</td>\n",
       "      <td>34.681261</td>\n",
       "      <td>135.509801</td>\n",
       "      <td>2016-01-07</td>\n",
       "      <td>26</td>\n",
       "      <td>NaN</td>\n",
       "      <td>NaN</td>\n",
       "      <td>NaN</td>\n",
       "    </tr>\n",
       "    <tr>\n",
       "      <th>3</th>\n",
       "      <td>air_399904bdb7685ca0</td>\n",
       "      <td>Italian/French</td>\n",
       "      <td>Ōsaka-fu Ōsaka-shi Kyūtarōmachi</td>\n",
       "      <td>34.681261</td>\n",
       "      <td>135.509801</td>\n",
       "      <td>2016-01-08</td>\n",
       "      <td>75</td>\n",
       "      <td>NaN</td>\n",
       "      <td>NaN</td>\n",
       "      <td>NaN</td>\n",
       "    </tr>\n",
       "    <tr>\n",
       "      <th>4</th>\n",
       "      <td>air_399904bdb7685ca0</td>\n",
       "      <td>Italian/French</td>\n",
       "      <td>Ōsaka-fu Ōsaka-shi Kyūtarōmachi</td>\n",
       "      <td>34.681261</td>\n",
       "      <td>135.509801</td>\n",
       "      <td>2016-01-09</td>\n",
       "      <td>91</td>\n",
       "      <td>NaN</td>\n",
       "      <td>NaN</td>\n",
       "      <td>NaN</td>\n",
       "    </tr>\n",
       "  </tbody>\n",
       "</table>\n",
       "</div>"
      ],
      "text/plain": [
       "           air_store_id  air_genre_name                    air_area_name  \\\n",
       "0  air_399904bdb7685ca0  Italian/French  Ōsaka-fu Ōsaka-shi Kyūtarōmachi   \n",
       "1  air_399904bdb7685ca0  Italian/French  Ōsaka-fu Ōsaka-shi Kyūtarōmachi   \n",
       "2  air_399904bdb7685ca0  Italian/French  Ōsaka-fu Ōsaka-shi Kyūtarōmachi   \n",
       "3  air_399904bdb7685ca0  Italian/French  Ōsaka-fu Ōsaka-shi Kyūtarōmachi   \n",
       "4  air_399904bdb7685ca0  Italian/French  Ōsaka-fu Ōsaka-shi Kyūtarōmachi   \n",
       "\n",
       "    latitude   longitude visit_date  visitors  air_reserve_visitors_sum  \\\n",
       "0  34.681261  135.509801 2016-01-05         4                       NaN   \n",
       "1  34.681261  135.509801 2016-01-06        15                       NaN   \n",
       "2  34.681261  135.509801 2016-01-07        26                       NaN   \n",
       "3  34.681261  135.509801 2016-01-08        75                       NaN   \n",
       "4  34.681261  135.509801 2016-01-09        91                       NaN   \n",
       "\n",
       "  hpg_store_id  hpg_reserve_visitors_sum  \n",
       "0          NaN                       NaN  \n",
       "1          NaN                       NaN  \n",
       "2          NaN                       NaN  \n",
       "3          NaN                       NaN  \n",
       "4          NaN                       NaN  "
      ]
     },
     "execution_count": 30,
     "metadata": {},
     "output_type": "execute_result"
    }
   ],
   "source": [
    "df_top20_hpg_reservations.head()"
   ]
  },
  {
   "cell_type": "markdown",
   "metadata": {},
   "source": [
    "### ... WITH DATE INFO"
   ]
  },
  {
   "cell_type": "code",
   "execution_count": 31,
   "metadata": {},
   "outputs": [
    {
     "name": "stdout",
     "output_type": "stream",
     "text": [
      "<class 'pandas.core.frame.DataFrame'>\n",
      "RangeIndex: 517 entries, 0 to 516\n",
      "Data columns (total 3 columns):\n",
      "calendar_date    517 non-null datetime64[ns]\n",
      "day_of_week      517 non-null object\n",
      "holiday_flg      517 non-null int64\n",
      "dtypes: datetime64[ns](1), int64(1), object(1)\n",
      "memory usage: 12.2+ KB\n"
     ]
    }
   ],
   "source": [
    "df_date_info.info()"
   ]
  },
  {
   "cell_type": "code",
   "execution_count": 32,
   "metadata": {},
   "outputs": [],
   "source": [
    "df_top20_hpg_reservations_dateinfo = pd.merge(df_top20_hpg_reservations, \n",
    "                                              df_date_info, \n",
    "                                              how='left',\n",
    "                                              left_on='visit_date',\n",
    "                                              right_on='calendar_date')"
   ]
  },
  {
   "cell_type": "code",
   "execution_count": 33,
   "metadata": {},
   "outputs": [
    {
     "data": {
      "text/html": [
       "<div>\n",
       "<table border=\"1\" class=\"dataframe\">\n",
       "  <thead>\n",
       "    <tr style=\"text-align: right;\">\n",
       "      <th></th>\n",
       "      <th>air_store_id</th>\n",
       "      <th>air_genre_name</th>\n",
       "      <th>air_area_name</th>\n",
       "      <th>latitude</th>\n",
       "      <th>longitude</th>\n",
       "      <th>visit_date</th>\n",
       "      <th>visitors</th>\n",
       "      <th>air_reserve_visitors_sum</th>\n",
       "      <th>hpg_store_id</th>\n",
       "      <th>hpg_reserve_visitors_sum</th>\n",
       "      <th>calendar_date</th>\n",
       "      <th>day_of_week</th>\n",
       "      <th>holiday_flg</th>\n",
       "    </tr>\n",
       "  </thead>\n",
       "  <tbody>\n",
       "    <tr>\n",
       "      <th>0</th>\n",
       "      <td>air_399904bdb7685ca0</td>\n",
       "      <td>Italian/French</td>\n",
       "      <td>Ōsaka-fu Ōsaka-shi Kyūtarōmachi</td>\n",
       "      <td>34.681261</td>\n",
       "      <td>135.509801</td>\n",
       "      <td>2016-01-05</td>\n",
       "      <td>4</td>\n",
       "      <td>NaN</td>\n",
       "      <td>NaN</td>\n",
       "      <td>NaN</td>\n",
       "      <td>2016-01-05</td>\n",
       "      <td>Tuesday</td>\n",
       "      <td>0</td>\n",
       "    </tr>\n",
       "    <tr>\n",
       "      <th>1</th>\n",
       "      <td>air_399904bdb7685ca0</td>\n",
       "      <td>Italian/French</td>\n",
       "      <td>Ōsaka-fu Ōsaka-shi Kyūtarōmachi</td>\n",
       "      <td>34.681261</td>\n",
       "      <td>135.509801</td>\n",
       "      <td>2016-01-06</td>\n",
       "      <td>15</td>\n",
       "      <td>NaN</td>\n",
       "      <td>NaN</td>\n",
       "      <td>NaN</td>\n",
       "      <td>2016-01-06</td>\n",
       "      <td>Wednesday</td>\n",
       "      <td>0</td>\n",
       "    </tr>\n",
       "    <tr>\n",
       "      <th>2</th>\n",
       "      <td>air_399904bdb7685ca0</td>\n",
       "      <td>Italian/French</td>\n",
       "      <td>Ōsaka-fu Ōsaka-shi Kyūtarōmachi</td>\n",
       "      <td>34.681261</td>\n",
       "      <td>135.509801</td>\n",
       "      <td>2016-01-07</td>\n",
       "      <td>26</td>\n",
       "      <td>NaN</td>\n",
       "      <td>NaN</td>\n",
       "      <td>NaN</td>\n",
       "      <td>2016-01-07</td>\n",
       "      <td>Thursday</td>\n",
       "      <td>0</td>\n",
       "    </tr>\n",
       "    <tr>\n",
       "      <th>3</th>\n",
       "      <td>air_399904bdb7685ca0</td>\n",
       "      <td>Italian/French</td>\n",
       "      <td>Ōsaka-fu Ōsaka-shi Kyūtarōmachi</td>\n",
       "      <td>34.681261</td>\n",
       "      <td>135.509801</td>\n",
       "      <td>2016-01-08</td>\n",
       "      <td>75</td>\n",
       "      <td>NaN</td>\n",
       "      <td>NaN</td>\n",
       "      <td>NaN</td>\n",
       "      <td>2016-01-08</td>\n",
       "      <td>Friday</td>\n",
       "      <td>0</td>\n",
       "    </tr>\n",
       "    <tr>\n",
       "      <th>4</th>\n",
       "      <td>air_399904bdb7685ca0</td>\n",
       "      <td>Italian/French</td>\n",
       "      <td>Ōsaka-fu Ōsaka-shi Kyūtarōmachi</td>\n",
       "      <td>34.681261</td>\n",
       "      <td>135.509801</td>\n",
       "      <td>2016-01-09</td>\n",
       "      <td>91</td>\n",
       "      <td>NaN</td>\n",
       "      <td>NaN</td>\n",
       "      <td>NaN</td>\n",
       "      <td>2016-01-09</td>\n",
       "      <td>Saturday</td>\n",
       "      <td>0</td>\n",
       "    </tr>\n",
       "  </tbody>\n",
       "</table>\n",
       "</div>"
      ],
      "text/plain": [
       "           air_store_id  air_genre_name                    air_area_name  \\\n",
       "0  air_399904bdb7685ca0  Italian/French  Ōsaka-fu Ōsaka-shi Kyūtarōmachi   \n",
       "1  air_399904bdb7685ca0  Italian/French  Ōsaka-fu Ōsaka-shi Kyūtarōmachi   \n",
       "2  air_399904bdb7685ca0  Italian/French  Ōsaka-fu Ōsaka-shi Kyūtarōmachi   \n",
       "3  air_399904bdb7685ca0  Italian/French  Ōsaka-fu Ōsaka-shi Kyūtarōmachi   \n",
       "4  air_399904bdb7685ca0  Italian/French  Ōsaka-fu Ōsaka-shi Kyūtarōmachi   \n",
       "\n",
       "    latitude   longitude visit_date  visitors  air_reserve_visitors_sum  \\\n",
       "0  34.681261  135.509801 2016-01-05         4                       NaN   \n",
       "1  34.681261  135.509801 2016-01-06        15                       NaN   \n",
       "2  34.681261  135.509801 2016-01-07        26                       NaN   \n",
       "3  34.681261  135.509801 2016-01-08        75                       NaN   \n",
       "4  34.681261  135.509801 2016-01-09        91                       NaN   \n",
       "\n",
       "  hpg_store_id  hpg_reserve_visitors_sum calendar_date day_of_week  \\\n",
       "0          NaN                       NaN    2016-01-05     Tuesday   \n",
       "1          NaN                       NaN    2016-01-06   Wednesday   \n",
       "2          NaN                       NaN    2016-01-07    Thursday   \n",
       "3          NaN                       NaN    2016-01-08      Friday   \n",
       "4          NaN                       NaN    2016-01-09    Saturday   \n",
       "\n",
       "   holiday_flg  \n",
       "0            0  \n",
       "1            0  \n",
       "2            0  \n",
       "3            0  \n",
       "4            0  "
      ]
     },
     "execution_count": 33,
     "metadata": {},
     "output_type": "execute_result"
    }
   ],
   "source": [
    "df_top20_hpg_reservations_dateinfo.head()"
   ]
  },
  {
   "cell_type": "code",
   "execution_count": null,
   "metadata": {},
   "outputs": [],
   "source": []
  },
  {
   "cell_type": "code",
   "execution_count": 34,
   "metadata": {},
   "outputs": [],
   "source": [
    "# Save data in the file\n",
    "df_top20_hpg_reservations_dateinfo.to_csv(\"../data/processed/restaurants_top20.csv\", \n",
    "                                             sep=',', \n",
    "                                             encoding='utf-8', \n",
    "                                             index=False)"
   ]
  },
  {
   "cell_type": "markdown",
   "metadata": {},
   "source": [
    "### Another dataset with all 'AIR' stores"
   ]
  },
  {
   "cell_type": "code",
   "execution_count": 35,
   "metadata": {},
   "outputs": [],
   "source": [
    "# all stores\n",
    "df_all = df_air_store_info\n",
    "\n",
    "# with visits\n",
    "df_all_visits = pd.merge(df_all, \n",
    "                         df_air_visit_data, \n",
    "                         how='left',\n",
    "                         on=['air_store_id'])\n",
    "\n",
    "# with reservations\n",
    "df_all_visits_reservations = pd.merge(df_all_visits, \n",
    "                                      df_reservation_data, \n",
    "                                      how='left',\n",
    "                                      on=['air_store_id','visit_date'])\n",
    "\n",
    "df_all_visits_reservations_hpg = pd.merge(df_all_visits_reservations, \n",
    "                                          df_store_id_relation, \n",
    "                                          how='left',\n",
    "                                          on=['air_store_id'])\n",
    "\n",
    "# with hpg reservations\n",
    "df_all_visits_reservations_hpg_reservations = pd.merge(df_all_visits_reservations_hpg, \n",
    "                                                       df_hpg_reservation_data, \n",
    "                                                       how='left',\n",
    "                                                       on=['hpg_store_id', 'visit_date'])\n",
    "\n",
    "# with date info\n",
    "df_all_visits_reservations_hpg_reservations_dateinfo = pd.merge(df_all_visits_reservations_hpg_reservations, \n",
    "                                                                df_date_info, \n",
    "                                                                how='left',\n",
    "                                                                left_on='visit_date',\n",
    "                                                                right_on='calendar_date')\n",
    "\n",
    "# save\n",
    "df_all_visits_reservations_hpg_reservations_dateinfo.to_csv(\"../data/processed/restaurants_all.csv\", \n",
    "                                                            sep=',', \n",
    "                                                            encoding='utf-8', \n",
    "                                                            index=False)"
   ]
  },
  {
   "cell_type": "code",
   "execution_count": null,
   "metadata": {},
   "outputs": [],
   "source": []
  },
  {
   "cell_type": "markdown",
   "metadata": {},
   "source": [
    "### verify columns in the saved datasets"
   ]
  },
  {
   "cell_type": "code",
   "execution_count": 36,
   "metadata": {},
   "outputs": [
    {
     "data": {
      "text/plain": [
       "Index(['air_store_id', 'air_genre_name', 'air_area_name', 'latitude',\n",
       "       'longitude', 'visit_date', 'visitors', 'air_reserve_visitors_sum',\n",
       "       'hpg_store_id', 'hpg_reserve_visitors_sum', 'calendar_date',\n",
       "       'day_of_week', 'holiday_flg'],\n",
       "      dtype='object')"
      ]
     },
     "execution_count": 36,
     "metadata": {},
     "output_type": "execute_result"
    }
   ],
   "source": [
    "df_top20_from_file = pd.read_csv(\"../data/processed/restaurants_top20.csv\")\n",
    "df_top20_from_file.columns"
   ]
  },
  {
   "cell_type": "code",
   "execution_count": 37,
   "metadata": {},
   "outputs": [
    {
     "data": {
      "text/plain": [
       "Index(['air_store_id', 'air_genre_name', 'air_area_name', 'latitude',\n",
       "       'longitude', 'visit_date', 'visitors', 'air_reserve_visitors_sum',\n",
       "       'hpg_store_id', 'hpg_reserve_visitors_sum', 'calendar_date',\n",
       "       'day_of_week', 'holiday_flg'],\n",
       "      dtype='object')"
      ]
     },
     "execution_count": 37,
     "metadata": {},
     "output_type": "execute_result"
    }
   ],
   "source": [
    "df_all_from_file = pd.read_csv(\"../data/processed/restaurants_all.csv\")\n",
    "df_all_from_file.columns"
   ]
  },
  {
   "cell_type": "markdown",
   "metadata": {},
   "source": [
    "### info"
   ]
  },
  {
   "cell_type": "code",
   "execution_count": 38,
   "metadata": {},
   "outputs": [
    {
     "data": {
      "text/plain": [
       "(8763, 13)"
      ]
     },
     "execution_count": 38,
     "metadata": {},
     "output_type": "execute_result"
    }
   ],
   "source": [
    "df_top20_from_file.shape"
   ]
  },
  {
   "cell_type": "code",
   "execution_count": 39,
   "metadata": {},
   "outputs": [
    {
     "data": {
      "text/plain": [
       "(252108, 13)"
      ]
     },
     "execution_count": 39,
     "metadata": {},
     "output_type": "execute_result"
    }
   ],
   "source": [
    "df_all_from_file.shape"
   ]
  }
 ],
 "metadata": {
  "kernelspec": {
   "display_name": "Python 3",
   "language": "python",
   "name": "python3"
  },
  "language_info": {
   "codemirror_mode": {
    "name": "ipython",
    "version": 3
   },
   "file_extension": ".py",
   "mimetype": "text/x-python",
   "name": "python",
   "nbconvert_exporter": "python",
   "pygments_lexer": "ipython3",
   "version": "3.6.3"
  }
 },
 "nbformat": 4,
 "nbformat_minor": 2
}
