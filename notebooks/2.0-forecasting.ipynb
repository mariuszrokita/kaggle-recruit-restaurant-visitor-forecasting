{
 "cells": [
  {
   "cell_type": "markdown",
   "metadata": {},
   "source": [
    "Contributions from:\n",
    "\n",
    "* DSEverything - Mean Mix - Math, Geo, Harmonic (LB 0.493) \n",
    "https://www.kaggle.com/dongxu027/mean-mix-math-geo-harmonic-lb-0-493\n",
    "\n",
    "* JdPaletto - Surprised Yet? - Part2 - (LB: 0.503)\n",
    "https://www.kaggle.com/jdpaletto/surprised-yet-part2-lb-0-503\n",
    "\n",
    "* hklee - weighted mean comparisons, LB 0.497, 1ST\n",
    "https://www.kaggle.com/zeemeen/weighted-mean-comparisons-lb-0-497-1st"
   ]
  },
  {
   "cell_type": "code",
   "execution_count": 1,
   "metadata": {
    "collapsed": true
   },
   "outputs": [],
   "source": [
    "# warnings management\n",
    "import warnings;\n",
    "#warnings.simplefilter('default')\n",
    "#warnings.simplefilter('once')\n",
    "#warnings.filterwarnings('ignore')"
   ]
  },
  {
   "cell_type": "code",
   "execution_count": 2,
   "metadata": {},
   "outputs": [
    {
     "name": "stderr",
     "output_type": "stream",
     "text": [
      "/Users/mariuszrokita/anaconda/lib/python3.6/site-packages/sklearn/cross_validation.py:41: DeprecationWarning: This module was deprecated in version 0.18 in favor of the model_selection module into which all the refactored classes and functions are moved. Also note that the interface of the new CV iterators are different from that of this module. This module will be removed in 0.20.\n",
      "  \"This module will be removed in 0.20.\", DeprecationWarning)\n",
      "/Users/mariuszrokita/anaconda/lib/python3.6/site-packages/sklearn/grid_search.py:42: DeprecationWarning: This module was deprecated in version 0.18 in favor of the model_selection module into which all the refactored classes and functions are moved. This module will be removed in 0.20.\n",
      "  DeprecationWarning)\n",
      "/Users/mariuszrokita/anaconda/lib/python3.6/site-packages/sklearn/learning_curve.py:22: DeprecationWarning: This module was deprecated in version 0.18 in favor of the model_selection module into which all the functions are moved. This module will be removed in 0.20\n",
      "  DeprecationWarning)\n"
     ]
    }
   ],
   "source": [
    "import glob, re\n",
    "import numpy as np\n",
    "import pandas as pd\n",
    "from sklearn import *\n",
    "from datetime import datetime\n",
    "import xgboost\n",
    "from xgboost import XGBRegressor\n",
    "\n",
    "import matplotlib.pyplot as plt\n",
    "%matplotlib inline"
   ]
  },
  {
   "cell_type": "markdown",
   "metadata": {},
   "source": [
    "## Load data"
   ]
  },
  {
   "cell_type": "code",
   "execution_count": 3,
   "metadata": {
    "collapsed": true
   },
   "outputs": [],
   "source": [
    "AIR_RESERVE = 'air_reserve'\n",
    "AIR_STORE_INFO = 'air_store_info'\n",
    "AIR_VISIT_DATA = 'air_visit_data'\n",
    "DATE_INFO = 'date_info'\n",
    "HPG_RESERVE = 'hpg_reserve'\n",
    "HPG_STORE_INFO = 'hpg_store_info'\n",
    "STORE_ID_RELATION = 'store_id_relation'\n",
    "SAMPLE_SUBMISSION = 'sample_submission'\n",
    "\n",
    "data = {\n",
    "    AIR_RESERVE:        pd.read_csv('../data/raw/air_reserve.csv',\n",
    "                                    parse_dates=['visit_datetime', 'reserve_datetime']),\n",
    "    AIR_STORE_INFO:     pd.read_csv('../data/raw/air_store_info.csv'),\n",
    "    AIR_VISIT_DATA:     pd.read_csv('../data/raw/air_visit_data.csv',\n",
    "                                    parse_dates=['visit_date']),\n",
    "    DATE_INFO:          pd.read_csv('../data/raw/date_info.csv')\n",
    "                                    .rename(columns={'calendar_date':'visit_date'}),\n",
    "    HPG_RESERVE:        pd.read_csv('../data/raw/hpg_reserve.csv',\n",
    "                                    parse_dates=['visit_datetime', 'reserve_datetime']),\n",
    "    HPG_STORE_INFO:     pd.read_csv('../data/raw/hpg_store_info.csv'),\n",
    "    STORE_ID_RELATION:  pd.read_csv('../data/raw/store_id_relation.csv'),\n",
    "    SAMPLE_SUBMISSION:  pd.read_csv('../data/raw/sample_submission.csv')\n",
    "}"
   ]
  },
  {
   "cell_type": "markdown",
   "metadata": {},
   "source": [
    "## Feature engineering"
   ]
  },
  {
   "cell_type": "code",
   "execution_count": 4,
   "metadata": {
    "collapsed": true
   },
   "outputs": [],
   "source": [
    "data[HPG_RESERVE] = pd.merge(data[HPG_RESERVE], data[STORE_ID_RELATION], how='inner', on=['hpg_store_id'])\n",
    "\n",
    "for df in [AIR_RESERVE,HPG_RESERVE]:\n",
    "    # Get rid of time portion as is not that important in our case\n",
    "    data[df]['visit_datetime'] = data[df]['visit_datetime'].dt.date    \n",
    "    data[df]['reserve_datetime'] = data[df]['reserve_datetime'].dt.date\n",
    "    data[df]['reserve_datetime_diff'] = \\\n",
    "        data[df].apply(lambda r: (r['visit_datetime'] - r['reserve_datetime']).days, axis=1)\n",
    "        \n",
    "    tmp1 = data[df].groupby(['air_store_id','visit_datetime'], as_index=False) \\\n",
    "        [['reserve_datetime_diff', 'reserve_visitors']].sum() \\\n",
    "            .rename(columns={'visit_datetime':'visit_date', \n",
    "                             'reserve_datetime_diff': 'rs1', \n",
    "                             'reserve_visitors':'rv1'})            \n",
    "    tmp2 = data[df].groupby(['air_store_id','visit_datetime'], as_index=False) \\\n",
    "        [['reserve_datetime_diff', 'reserve_visitors']].mean() \\\n",
    "            .rename(columns={'visit_datetime':'visit_date', \n",
    "                             'reserve_datetime_diff': 'rs2', \n",
    "                             'reserve_visitors':'rv2'})\n",
    "    data[df] = pd.merge(tmp1, tmp2, how='inner', on=['air_store_id','visit_date'])"
   ]
  },
  {
   "cell_type": "code",
   "execution_count": 5,
   "metadata": {
    "collapsed": true
   },
   "outputs": [],
   "source": [
    "data[AIR_VISIT_DATA]['dow'] = data[AIR_VISIT_DATA]['visit_date'].dt.dayofweek\n",
    "data[AIR_VISIT_DATA]['year'] = data[AIR_VISIT_DATA]['visit_date'].dt.year\n",
    "data[AIR_VISIT_DATA]['month'] = data[AIR_VISIT_DATA]['visit_date'].dt.month\n",
    "data[AIR_VISIT_DATA]['visit_date'] = data[AIR_VISIT_DATA]['visit_date'].dt.date"
   ]
  },
  {
   "cell_type": "code",
   "execution_count": 6,
   "metadata": {
    "collapsed": true
   },
   "outputs": [],
   "source": [
    "data[SAMPLE_SUBMISSION]['visit_date'] = data[SAMPLE_SUBMISSION]['id'].map(lambda x: str(x).split('_')[2])\n",
    "data[SAMPLE_SUBMISSION]['air_store_id'] = data[SAMPLE_SUBMISSION]['id'].map(lambda x: '_'.join(x.split('_')[:2]))\n",
    "data[SAMPLE_SUBMISSION]['visit_date'] = pd.to_datetime(data[SAMPLE_SUBMISSION]['visit_date'])\n",
    "\n",
    "data[SAMPLE_SUBMISSION]['dow'] = data[SAMPLE_SUBMISSION]['visit_date'].dt.dayofweek\n",
    "data[SAMPLE_SUBMISSION]['year'] = data[SAMPLE_SUBMISSION]['visit_date'].dt.year\n",
    "data[SAMPLE_SUBMISSION]['month'] = data[SAMPLE_SUBMISSION]['visit_date'].dt.month\n",
    "data[SAMPLE_SUBMISSION]['visit_date'] = data[SAMPLE_SUBMISSION]['visit_date'].dt.date"
   ]
  },
  {
   "cell_type": "code",
   "execution_count": 7,
   "metadata": {
    "collapsed": true
   },
   "outputs": [],
   "source": [
    "unique_stores = data[SAMPLE_SUBMISSION]['air_store_id'].unique()\n",
    "stores = pd.concat([pd.DataFrame({'air_store_id': unique_stores, 'dow': [i]*len(unique_stores)}) for i in range(7)], \n",
    "                      axis=0, ignore_index=True\n",
    "                  ).reset_index(drop=True)"
   ]
  },
  {
   "cell_type": "code",
   "execution_count": 8,
   "metadata": {
    "collapsed": true
   },
   "outputs": [],
   "source": [
    "#sure it can be compressed...\n",
    "tmp = data[AIR_VISIT_DATA].groupby(['air_store_id','dow'], as_index=False)['visitors'].min().rename(columns={'visitors':'min_visitors'})\n",
    "stores = pd.merge(stores, tmp, how='left', on=['air_store_id','dow']) \n",
    "tmp = data[AIR_VISIT_DATA].groupby(['air_store_id','dow'], as_index=False)['visitors'].mean().rename(columns={'visitors':'mean_visitors'})\n",
    "stores = pd.merge(stores, tmp, how='left', on=['air_store_id','dow'])\n",
    "tmp = data[AIR_VISIT_DATA].groupby(['air_store_id','dow'], as_index=False)['visitors'].median().rename(columns={'visitors':'median_visitors'})\n",
    "stores = pd.merge(stores, tmp, how='left', on=['air_store_id','dow'])\n",
    "tmp = data[AIR_VISIT_DATA].groupby(['air_store_id','dow'], as_index=False)['visitors'].max().rename(columns={'visitors':'max_visitors'})\n",
    "stores = pd.merge(stores, tmp, how='left', on=['air_store_id','dow'])\n",
    "tmp = data[AIR_VISIT_DATA].groupby(['air_store_id','dow'], as_index=False)['visitors'].count().rename(columns={'visitors':'count_observations'})\n",
    "stores = pd.merge(stores, tmp, how='left', on=['air_store_id','dow']) \n",
    "\n",
    "stores = pd.merge(stores, data[AIR_STORE_INFO], how='left', on=['air_store_id']) \n",
    "# NEW FEATURES FROM Georgii Vyshnia\n",
    "stores['air_genre_name'] = stores['air_genre_name'].map(lambda x: str(str(x).replace('/',' ')))\n",
    "stores['air_area_name'] = stores['air_area_name'].map(lambda x: str(str(x).replace('-',' ')))\n",
    "lbl = preprocessing.LabelEncoder()\n",
    "for i in range(10):\n",
    "    stores['air_genre_name'+str(i)] = lbl.fit_transform(stores['air_genre_name'].map(lambda x: str(str(x).split(' ')[i]) if len(str(x).split(' '))>i else ''))\n",
    "    stores['air_area_name'+str(i)] = lbl.fit_transform(stores['air_area_name'].map(lambda x: str(str(x).split(' ')[i]) if len(str(x).split(' '))>i else ''))\n",
    "stores['air_genre_name'] = lbl.fit_transform(stores['air_genre_name'])\n",
    "stores['air_area_name'] = lbl.fit_transform(stores['air_area_name'])\n",
    "\n",
    "data[DATE_INFO]['visit_date'] = pd.to_datetime(data[DATE_INFO]['visit_date'])\n",
    "data[DATE_INFO]['day_of_week'] = lbl.fit_transform(data[DATE_INFO]['day_of_week'])\n",
    "data[DATE_INFO]['visit_date'] = data[DATE_INFO]['visit_date'].dt.date"
   ]
  },
  {
   "cell_type": "markdown",
   "metadata": {},
   "source": [
    "## Prepare Train and Test datasets"
   ]
  },
  {
   "cell_type": "code",
   "execution_count": 9,
   "metadata": {},
   "outputs": [],
   "source": [
    "train = pd.merge(data[AIR_VISIT_DATA],    data[DATE_INFO], how='left', on=['visit_date']) \n",
    "test  = pd.merge(data[SAMPLE_SUBMISSION], data[DATE_INFO], how='left', on=['visit_date']) \n",
    "\n",
    "train = pd.merge(train, stores, how='left', on=['air_store_id','dow']) \n",
    "test  = pd.merge(test,  stores, how='left', on=['air_store_id','dow'])\n",
    "\n",
    "for df in [AIR_RESERVE,HPG_RESERVE]:\n",
    "    train = pd.merge(train, data[df], how='left', on=['air_store_id','visit_date']) \n",
    "    test  = pd.merge(test,  data[df], how='left', on=['air_store_id','visit_date'])\n",
    "\n",
    "train['store_id_relation'] = train.apply(lambda r: '_'.join([str(r['air_store_id']), str(r['visit_date'])]), axis=1)\n",
    "\n",
    "train['total_reserv_sum'] = train['rv1_x'] + train['rv1_y']\n",
    "train['total_reserv_mean'] = (train['rv2_x'] + train['rv2_y']) / 2\n",
    "train['total_reserv_dt_diff_mean'] = (train['rs2_x'] + train['rs2_y']) / 2\n",
    "\n",
    "test['total_reserv_sum'] = test['rv1_x'] + test['rv1_y']\n",
    "test['total_reserv_mean'] = (test['rv2_x'] + test['rv2_y']) / 2\n",
    "test['total_reserv_dt_diff_mean'] = (test['rs2_x'] + test['rs2_y']) / 2\n",
    "\n",
    "# NEW FEATURES FROM JMBULL\n",
    "train['date_int'] = train['visit_date'].apply(lambda x: x.strftime('%Y%m%d')).astype(int)\n",
    "test['date_int'] = test['visit_date'].apply(lambda x: x.strftime('%Y%m%d')).astype(int)\n",
    "train['var_max_lat'] = train['latitude'].max() - train['latitude']\n",
    "train['var_max_long'] = train['longitude'].max() - train['longitude']\n",
    "test['var_max_lat'] = test['latitude'].max() - test['latitude']\n",
    "test['var_max_long'] = test['longitude'].max() - test['longitude']\n",
    "\n",
    "# NEW FEATURES FROM Georgii Vyshnia\n",
    "train['lon_plus_lat'] = train['longitude'] + train['latitude'] \n",
    "test['lon_plus_lat'] = test['longitude'] + test['latitude']\n",
    "\n",
    "lbl = preprocessing.LabelEncoder()\n",
    "train['air_store_id2'] = lbl.fit_transform(train['air_store_id'])\n",
    "test['air_store_id2'] = lbl.transform(test['air_store_id'])\n",
    "\n",
    "features = [c for c in train if c not in ['store_id_relation', 'air_store_id', 'visit_date','visitors']]\n",
    "train = train.fillna(-1)\n",
    "test = test.fillna(-1)\n",
    "\n",
    "X_train = train[features]\n",
    "y_train = np.log1p(train['visitors'].values)\n",
    "\n",
    "X_test = test[features]"
   ]
  },
  {
   "cell_type": "markdown",
   "metadata": {},
   "source": [
    "#### Train and Test sets visualized"
   ]
  },
  {
   "cell_type": "code",
   "execution_count": 10,
   "metadata": {},
   "outputs": [
    {
     "data": {
      "text/plain": [
       "(252108, 54)"
      ]
     },
     "execution_count": 10,
     "metadata": {},
     "output_type": "execute_result"
    }
   ],
   "source": [
    "train.shape"
   ]
  },
  {
   "cell_type": "code",
   "execution_count": 11,
   "metadata": {},
   "outputs": [
    {
     "data": {
      "text/plain": [
       "Index(['air_store_id', 'visit_date', 'visitors', 'dow', 'year', 'month',\n",
       "       'day_of_week', 'holiday_flg', 'min_visitors', 'mean_visitors',\n",
       "       'median_visitors', 'max_visitors', 'count_observations',\n",
       "       'air_genre_name', 'air_area_name', 'latitude', 'longitude',\n",
       "       'air_genre_name0', 'air_area_name0', 'air_genre_name1',\n",
       "       'air_area_name1', 'air_genre_name2', 'air_area_name2',\n",
       "       'air_genre_name3', 'air_area_name3', 'air_genre_name4',\n",
       "       'air_area_name4', 'air_genre_name5', 'air_area_name5',\n",
       "       'air_genre_name6', 'air_area_name6', 'air_genre_name7',\n",
       "       'air_area_name7', 'air_genre_name8', 'air_area_name8',\n",
       "       'air_genre_name9', 'air_area_name9', 'rs1_x', 'rv1_x', 'rs2_x', 'rv2_x',\n",
       "       'rs1_y', 'rv1_y', 'rs2_y', 'rv2_y', 'store_id_relation',\n",
       "       'total_reserv_sum', 'total_reserv_mean', 'total_reserv_dt_diff_mean',\n",
       "       'date_int', 'var_max_lat', 'var_max_long', 'lon_plus_lat',\n",
       "       'air_store_id2'],\n",
       "      dtype='object')"
      ]
     },
     "execution_count": 11,
     "metadata": {},
     "output_type": "execute_result"
    }
   ],
   "source": [
    "train.columns"
   ]
  },
  {
   "cell_type": "code",
   "execution_count": 12,
   "metadata": {},
   "outputs": [
    {
     "data": {
      "text/plain": [
       "(32019, 54)"
      ]
     },
     "execution_count": 12,
     "metadata": {},
     "output_type": "execute_result"
    }
   ],
   "source": [
    "test.shape"
   ]
  },
  {
   "cell_type": "code",
   "execution_count": 13,
   "metadata": {},
   "outputs": [
    {
     "data": {
      "text/plain": [
       "Index(['id', 'visitors', 'visit_date', 'air_store_id', 'dow', 'year', 'month',\n",
       "       'day_of_week', 'holiday_flg', 'min_visitors', 'mean_visitors',\n",
       "       'median_visitors', 'max_visitors', 'count_observations',\n",
       "       'air_genre_name', 'air_area_name', 'latitude', 'longitude',\n",
       "       'air_genre_name0', 'air_area_name0', 'air_genre_name1',\n",
       "       'air_area_name1', 'air_genre_name2', 'air_area_name2',\n",
       "       'air_genre_name3', 'air_area_name3', 'air_genre_name4',\n",
       "       'air_area_name4', 'air_genre_name5', 'air_area_name5',\n",
       "       'air_genre_name6', 'air_area_name6', 'air_genre_name7',\n",
       "       'air_area_name7', 'air_genre_name8', 'air_area_name8',\n",
       "       'air_genre_name9', 'air_area_name9', 'rs1_x', 'rv1_x', 'rs2_x', 'rv2_x',\n",
       "       'rs1_y', 'rv1_y', 'rs2_y', 'rv2_y', 'total_reserv_sum',\n",
       "       'total_reserv_mean', 'total_reserv_dt_diff_mean', 'date_int',\n",
       "       'var_max_lat', 'var_max_long', 'lon_plus_lat', 'air_store_id2'],\n",
       "      dtype='object')"
      ]
     },
     "execution_count": 13,
     "metadata": {},
     "output_type": "execute_result"
    }
   ],
   "source": [
    "test.columns"
   ]
  },
  {
   "cell_type": "markdown",
   "metadata": {},
   "source": [
    "## Model Fitting"
   ]
  },
  {
   "cell_type": "markdown",
   "metadata": {},
   "source": [
    "#### Model Evaluation Metrics"
   ]
  },
  {
   "cell_type": "code",
   "execution_count": 14,
   "metadata": {
    "collapsed": true
   },
   "outputs": [],
   "source": [
    "# RMSLE measures the ratio between actual and predicted.\n",
    "# It can be used when we don’t want to penalize huge differences when both the values are huge numbers.\n",
    "# Also, this can be used when we want to penalize under estimates MORE than over estimates.\n",
    "def RMSLE(y, pred):\n",
    "    return metrics.mean_squared_error(y, pred)**0.5"
   ]
  },
  {
   "cell_type": "markdown",
   "metadata": {},
   "source": [
    "### Model 1 - Gradient Boosting Regressor"
   ]
  },
  {
   "cell_type": "code",
   "execution_count": 15,
   "metadata": {},
   "outputs": [
    {
     "name": "stdout",
     "output_type": "stream",
     "text": [
      "GradientBoostingRegressor(alpha=0.9, criterion='friedman_mse', init=None,\n",
      "             learning_rate=0.2, loss='ls', max_depth=10, max_features=None,\n",
      "             max_leaf_nodes=None, min_impurity_decrease=0.0,\n",
      "             min_impurity_split=None, min_samples_leaf=1,\n",
      "             min_samples_split=2, min_weight_fraction_leaf=0.0,\n",
      "             n_estimators=5, presort='auto', random_state=3, subsample=0.8,\n",
      "             verbose=0, warm_start=False)\n",
      "RMSLE GradientBoostingRegressor:  0.536513354862\n"
     ]
    }
   ],
   "source": [
    "model1 = ensemble.GradientBoostingRegressor(learning_rate=0.2, \n",
    "                                            random_state=3, \n",
    "                                            n_estimators=5, # best result: 200 \n",
    "                                            subsample=0.8, \n",
    "                                            max_depth =10,\n",
    "                                            verbose=0)\n",
    "print(model1)\n",
    "\n",
    "model1.fit(X_train, y_train)\n",
    "model1_train_predictions = model1.predict(X_train)\n",
    "print('RMSLE GradientBoostingRegressor: ', RMSLE(y_train, model1_train_predictions))"
   ]
  },
  {
   "cell_type": "code",
   "execution_count": 16,
   "metadata": {
    "collapsed": true
   },
   "outputs": [],
   "source": [
    "from sklearn.model_selection import learning_curve\n",
    "from sklearn.model_selection import ShuffleSplit\n",
    "\n",
    "def plot_learning_curve(model, title, X, y, ylim=None, cv=None,\n",
    "                        n_jobs=1, train_sizes=np.linspace(.1, 1.0, 5)):\n",
    "    \n",
    "    plt.figure(figsize=(18,6))\n",
    "    plt.title(title)\n",
    "    if ylim is not None:\n",
    "        plt.ylim(*ylim)\n",
    "\n",
    "    plt.xlabel(\"Training examples\")\n",
    "    plt.ylabel(\"Score\")\n",
    "    \n",
    "    train_sizes, train_scores, test_scores = learning_curve(\n",
    "        model, X, y, cv=cv, n_jobs=n_jobs, train_sizes=train_sizes)\n",
    "    train_scores_mean = np.mean(train_scores, axis=1)\n",
    "    train_scores_std = np.std(train_scores, axis=1)\n",
    "    test_scores_mean = np.mean(test_scores, axis=1)\n",
    "    test_scores_std = np.std(test_scores, axis=1)\n",
    "    \n",
    "    #print(\"Train sizes:\", train_sizes)\n",
    "    #print(\"Train scores:\", train_scores)\n",
    "    #print(\"Test scores:\", print(test_scores))\n",
    "    \n",
    "    plt.grid()\n",
    "    plt.fill_between(train_sizes, train_scores_mean - train_scores_std,\n",
    "                     train_scores_mean + train_scores_std, alpha=0.1,\n",
    "                     color=\"r\")\n",
    "    plt.fill_between(train_sizes, test_scores_mean - test_scores_std,\n",
    "                     test_scores_mean + test_scores_std, alpha=0.1, color=\"g\")\n",
    "    plt.plot(train_sizes, train_scores_mean, 'o-', color=\"r\", label=\"Training score\")\n",
    "    plt.plot(train_sizes, test_scores_mean, 'o-', color=\"g\", label=\"Cross-validation score\")\n",
    "\n",
    "    plt.legend(loc=\"best\")\n",
    "    return plt"
   ]
  },
  {
   "cell_type": "code",
   "execution_count": 17,
   "metadata": {
    "scrolled": false
   },
   "outputs": [
    {
     "name": "stderr",
     "output_type": "stream",
     "text": [
      "/Users/mariuszrokita/anaconda/lib/python3.6/site-packages/sklearn/ensemble/gradient_boosting.py:93: FutureWarning: np.average currently does not preserve subclasses, but will do so in the future to match the behavior of most other numpy functions such as np.mean. In particular, this means calls which returned a scalar may return a 0-d subclass object instead.\n",
      "  self.mean = np.average(y, weights=sample_weight)\n",
      "/Users/mariuszrokita/anaconda/lib/python3.6/site-packages/sklearn/ensemble/gradient_boosting.py:93: FutureWarning: np.average currently does not preserve subclasses, but will do so in the future to match the behavior of most other numpy functions such as np.mean. In particular, this means calls which returned a scalar may return a 0-d subclass object instead.\n",
      "  self.mean = np.average(y, weights=sample_weight)\n",
      "/Users/mariuszrokita/anaconda/lib/python3.6/site-packages/sklearn/ensemble/gradient_boosting.py:93: FutureWarning: np.average currently does not preserve subclasses, but will do so in the future to match the behavior of most other numpy functions such as np.mean. In particular, this means calls which returned a scalar may return a 0-d subclass object instead.\n",
      "  self.mean = np.average(y, weights=sample_weight)\n",
      "/Users/mariuszrokita/anaconda/lib/python3.6/site-packages/sklearn/ensemble/gradient_boosting.py:93: FutureWarning: np.average currently does not preserve subclasses, but will do so in the future to match the behavior of most other numpy functions such as np.mean. In particular, this means calls which returned a scalar may return a 0-d subclass object instead.\n",
      "  self.mean = np.average(y, weights=sample_weight)\n",
      "/Users/mariuszrokita/anaconda/lib/python3.6/site-packages/sklearn/ensemble/gradient_boosting.py:93: FutureWarning: np.average currently does not preserve subclasses, but will do so in the future to match the behavior of most other numpy functions such as np.mean. In particular, this means calls which returned a scalar may return a 0-d subclass object instead.\n",
      "  self.mean = np.average(y, weights=sample_weight)\n",
      "/Users/mariuszrokita/anaconda/lib/python3.6/site-packages/sklearn/ensemble/gradient_boosting.py:93: FutureWarning: np.average currently does not preserve subclasses, but will do so in the future to match the behavior of most other numpy functions such as np.mean. In particular, this means calls which returned a scalar may return a 0-d subclass object instead.\n",
      "  self.mean = np.average(y, weights=sample_weight)\n",
      "/Users/mariuszrokita/anaconda/lib/python3.6/site-packages/sklearn/ensemble/gradient_boosting.py:93: FutureWarning: np.average currently does not preserve subclasses, but will do so in the future to match the behavior of most other numpy functions such as np.mean. In particular, this means calls which returned a scalar may return a 0-d subclass object instead.\n",
      "  self.mean = np.average(y, weights=sample_weight)\n",
      "/Users/mariuszrokita/anaconda/lib/python3.6/site-packages/sklearn/ensemble/gradient_boosting.py:93: FutureWarning: np.average currently does not preserve subclasses, but will do so in the future to match the behavior of most other numpy functions such as np.mean. In particular, this means calls which returned a scalar may return a 0-d subclass object instead.\n",
      "  self.mean = np.average(y, weights=sample_weight)\n"
     ]
    },
    {
     "data": {
      "image/png": "[encoded data removed]",
      "text/plain": [
       "<matplotlib.figure.Figure at 0x119b4c518>"
      ]
     },
     "metadata": {},
     "output_type": "display_data"
    }
   ],
   "source": [
    "plt = plot_learning_curve(model1, \"Learning Curves (ensemble.GradientBoostingRegressor)\", \n",
    "                          X_train, y_train, ylim=(0.0, 1.02), cv=3, n_jobs=8)\n",
    "plt.show()"
   ]
  },
  {
   "cell_type": "markdown",
   "metadata": {},
   "source": [
    "#### Error evaluation"
   ]
  },
  {
   "cell_type": "code",
   "execution_count": 18,
   "metadata": {},
   "outputs": [],
   "source": [
    "df_error_eval = pd.DataFrame()\n",
    "df_error_eval['visit_date']         = train['visit_date']\n",
    "df_error_eval['visitors_log_train'] = y_train\n",
    "df_error_eval['visitors_log_pred']  = model1_train_predictions\n",
    "df_error_eval['visitors_train']     = np.expm1(y_train)\n",
    "df_error_eval['visitors_pred']      = np.expm1(model1_train_predictions)\n",
    "\n",
    "df_error_eval['visitors_pred_train_diff'] = df_error_eval['visitors_pred'] - df_error_eval['visitors_train']"
   ]
  },
  {
   "cell_type": "code",
   "execution_count": 19,
   "metadata": {},
   "outputs": [
    {
     "data": {
      "image/png": "[encoded data removed]",
      "text/plain": [
       "<matplotlib.figure.Figure at 0x119b4ce48>"
      ]
     },
     "metadata": {},
     "output_type": "display_data"
    }
   ],
   "source": [
    "ax = df_error_eval['visitors_pred_train_diff'].plot(figsize=(18, 6));\n",
    "ax.axhline(y=0, color='r', linewidth=0.5, linestyle='dashed');\n",
    "# plot styling\n",
    "ax.set_title('Error (predicted visitors - actual visitors) for all training examples')\n",
    "ax.set_xlabel(\"Training examples\")\n",
    "ax.set_ylabel(\"Error value\");"
   ]
  },
  {
   "cell_type": "code",
   "execution_count": 20,
   "metadata": {},
   "outputs": [
    {
     "data": {
      "image/png": "[encoded data removed]",
      "text/plain": [
       "<matplotlib.figure.Figure at 0x11cff7710>"
      ]
     },
     "metadata": {},
     "output_type": "display_data"
    }
   ],
   "source": [
    "df_error_eval_sorted = df_error_eval.sort_values(['visit_date'])\n",
    "df_error_eval_sorted.set_index('visit_date', inplace=True)\n",
    "\n",
    "ax = df_error_eval_sorted['visitors_pred_train_diff'].plot(figsize=(18, 6));\n",
    "ax.axhline(y=0, color='r', linewidth=0.5, linestyle='dashed');\n",
    "# plot styling\n",
    "ax.set_title('Error (predicted visitors - actual visitors) for all training examples over time')\n",
    "ax.set_xlabel(\"Prediction visit date\")\n",
    "ax.set_ylabel(\"Error value\");"
   ]
  },
  {
   "cell_type": "code",
   "execution_count": 21,
   "metadata": {},
   "outputs": [
    {
     "data": {
      "image/png": "[encoded data removed]",
      "text/plain": [
       "<matplotlib.figure.Figure at 0x11f516208>"
      ]
     },
     "metadata": {},
     "output_type": "display_data"
    }
   ],
   "source": [
    "df_error_eval_narrowed = \\\n",
    "    df_error_eval_sorted[df_error_eval_sorted['visitors_pred_train_diff'] > -70]\n",
    "\n",
    "df_error_eval_narrowed_mean = df_error_eval_narrowed['visitors_pred_train_diff'].mean()\n",
    "ax = df_error_eval_narrowed['visitors_pred_train_diff'].hist(bins=200, figsize=(18, 6));\n",
    "ax.axvline(x=df_error_eval_narrowed_mean, color='b', linewidth=0.5, linestyle='dashed');\n",
    "    \n",
    "# plot styling\n",
    "ax.set_title('Histogram of error distribution (only errors > -70) \\n mean={0:0.2f}'.format(df_error_eval_narrowed_mean))\n",
    "ax.set_xlabel(\"Error value\")\n",
    "ax.set_ylabel(\"Count\");"
   ]
  },
  {
   "cell_type": "markdown",
   "metadata": {},
   "source": [
    "#### Model prediction on Test dataset"
   ]
  },
  {
   "cell_type": "code",
   "execution_count": 22,
   "metadata": {
    "collapsed": true
   },
   "outputs": [],
   "source": [
    "model1_predictions = model1.predict(X_test)"
   ]
  },
  {
   "cell_type": "markdown",
   "metadata": {},
   "source": [
    "### Model 2 - KNeighborsRegressor"
   ]
  },
  {
   "cell_type": "code",
   "execution_count": 23,
   "metadata": {
    "collapsed": true,
    "scrolled": true
   },
   "outputs": [],
   "source": [
    "#model2 = neighbors.KNeighborsRegressor(n_jobs=-1, \n",
    "#                                       n_neighbors=4)\n",
    "#print(model2)\n",
    "#\n",
    "#model2.fit(train[col], np.log1p(train['visitors'].values))\n",
    "#preds2 = model2.predict(train[col])\n",
    "#print('RMSLE KNeighborsRegressor: ', RMSLE(np.log1p(train['visitors'].values), preds2))\n",
    "#preds2 = model2.predict(test[col])"
   ]
  },
  {
   "cell_type": "markdown",
   "metadata": {},
   "source": [
    "### Model 3 - XGBRegressor"
   ]
  },
  {
   "cell_type": "code",
   "execution_count": 24,
   "metadata": {
    "collapsed": true
   },
   "outputs": [],
   "source": [
    "#model3 = XGBRegressor(max_depth =12, \n",
    "#                      learning_rate=0.2, \n",
    "#                      n_estimators=20, # originally 280, \n",
    "#                      subsample=0.8, \n",
    "#                      colsample_bytree=0.8, \n",
    "#                      seed=3)\n",
    "#print(model3)\n",
    "#\n",
    "#%timeit model3.fit(train[col], np.log1p(train['visitors'].values))\n",
    "#preds3 = model3.predict(train[col])\n",
    "#print('RMSLE XGBRegressor: ', RMSLE(np.log1p(train['visitors'].values), preds3))\n",
    "#preds3 = model3.predict(test[col])"
   ]
  },
  {
   "cell_type": "code",
   "execution_count": null,
   "metadata": {
    "collapsed": true
   },
   "outputs": [],
   "source": []
  },
  {
   "cell_type": "code",
   "execution_count": 25,
   "metadata": {
    "collapsed": true
   },
   "outputs": [],
   "source": [
    "#test['visitors'] = 0.3*preds1+0.3*preds2+0.4*preds3\n",
    "test['visitors'] = model1_predictions\n",
    "test['visitors'] = np.expm1(test['visitors']).clip(lower=0.)\n",
    "sub1 = test[['id','visitors']].copy()\n",
    "\n",
    "# TODO: delete unneeded \n",
    "#del train; del data;"
   ]
  },
  {
   "cell_type": "code",
   "execution_count": 26,
   "metadata": {
    "collapsed": true
   },
   "outputs": [],
   "source": [
    "# from hklee\n",
    "# https://www.kaggle.com/zeemeen/weighted-mean-comparisons-lb-0-497-1st/code\n",
    "dfs = { re.search('/([^/\\.]*)\\.csv', fn).group(1):\n",
    "    pd.read_csv(fn)for fn in glob.glob('../data/raw/*.csv')}\n",
    "\n",
    "for k, v in dfs.items(): locals()[k] = v\n",
    "\n",
    "wkend_holidays = date_info.apply(\n",
    "    (lambda x:(x.day_of_week=='Sunday' or x.day_of_week=='Saturday') and x.holiday_flg==1), axis=1)\n",
    "date_info.loc[wkend_holidays, 'holiday_flg'] = 0\n",
    "date_info['weight'] = ((date_info.index + 1) / len(date_info)) ** 5  \n",
    "\n",
    "visit_data = air_visit_data.merge(date_info, left_on='visit_date', right_on='calendar_date', how='left')\n",
    "visit_data.drop('calendar_date', axis=1, inplace=True)\n",
    "visit_data['visitors'] = visit_data.visitors.map(pd.np.log1p)\n",
    "\n",
    "wmean = lambda x:( (x.weight * x.visitors).sum() / x.weight.sum() )\n",
    "visitors = visit_data.groupby(['air_store_id', 'day_of_week', 'holiday_flg']).apply(wmean).reset_index()\n",
    "visitors.rename(columns={0:'visitors'}, inplace=True) # cumbersome, should be better ways.\n",
    "\n",
    "sample_submission['air_store_id'] = sample_submission.id.map(lambda x: '_'.join(x.split('_')[:-1]))\n",
    "sample_submission['calendar_date'] = sample_submission.id.map(lambda x: x.split('_')[2])\n",
    "sample_submission.drop('visitors', axis=1, inplace=True)\n",
    "sample_submission = sample_submission.merge(date_info, on='calendar_date', how='left')\n",
    "sample_submission = sample_submission.merge(visitors, on=[\n",
    "    'air_store_id', 'day_of_week', 'holiday_flg'], how='left')\n",
    "\n",
    "missings = sample_submission.visitors.isnull()\n",
    "sample_submission.loc[missings, 'visitors'] = sample_submission[missings].merge(\n",
    "    visitors[visitors.holiday_flg==0], on=('air_store_id', 'day_of_week'), \n",
    "    how='left')['visitors_y'].values\n",
    "\n",
    "missings = sample_submission.visitors.isnull()\n",
    "sample_submission.loc[missings, 'visitors'] = sample_submission[missings].merge(\n",
    "    visitors[['air_store_id', 'visitors']].groupby('air_store_id').mean().reset_index(), \n",
    "    on='air_store_id', how='left')['visitors_y'].values\n",
    "\n",
    "sample_submission['visitors'] = sample_submission.visitors.map(pd.np.expm1)\n",
    "sub2 = sample_submission[['id', 'visitors']].copy()\n",
    "sub_merge = pd.merge(sub1, sub2, on='id', how='inner')\n",
    "\n",
    "sub_merge['visitors'] = 0.7*sub_merge['visitors_x'] + 0.3*sub_merge['visitors_y']* 1.1\n",
    "sub_merge[['id', 'visitors']].to_csv('../output/submission.csv', index=False)"
   ]
  },
  {
   "cell_type": "code",
   "execution_count": 27,
   "metadata": {},
   "outputs": [
    {
     "name": "stdout",
     "output_type": "stream",
     "text": [
      "done!\n"
     ]
    }
   ],
   "source": [
    "print('done!')"
   ]
  }
 ],
 "metadata": {
  "kernelspec": {
   "display_name": "Python 3",
   "language": "python",
   "name": "python3"
  },
  "language_info": {
   "codemirror_mode": {
    "name": "ipython",
    "version": 3
   },
   "file_extension": ".py",
   "mimetype": "text/x-python",
   "name": "python",
   "nbconvert_exporter": "python",
   "pygments_lexer": "ipython3",
   "version": "3.6.0"
  }
 },
 "nbformat": 4,
 "nbformat_minor": 2
}
