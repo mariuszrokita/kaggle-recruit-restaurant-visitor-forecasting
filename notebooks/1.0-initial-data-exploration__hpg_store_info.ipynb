{
 "cells": [
  {
   "cell_type": "code",
   "execution_count": 1,
   "metadata": {},
   "outputs": [],
   "source": [
    "import numpy as np\n",
    "import pandas as pd\n",
    "\n",
    "import seaborn as sns\n",
    "import matplotlib.pyplot as plt\n",
    "import matplotlib.dates as mdates\n",
    "%matplotlib inline"
   ]
  },
  {
   "cell_type": "markdown",
   "metadata": {},
   "source": [
    "# Hpg_Store_Info.csv"
   ]
  },
  {
   "cell_type": "code",
   "execution_count": 2,
   "metadata": {},
   "outputs": [],
   "source": [
    "df = pd.read_csv(\"../data/hpg_store_info.csv\")"
   ]
  },
  {
   "cell_type": "code",
   "execution_count": 3,
   "metadata": {},
   "outputs": [
    {
     "name": "stdout",
     "output_type": "stream",
     "text": [
      "<class 'pandas.core.frame.DataFrame'>\n",
      "RangeIndex: 4690 entries, 0 to 4689\n",
      "Data columns (total 5 columns):\n",
      "hpg_store_id      4690 non-null object\n",
      "hpg_genre_name    4690 non-null object\n",
      "hpg_area_name     4690 non-null object\n",
      "latitude          4690 non-null float64\n",
      "longitude         4690 non-null float64\n",
      "dtypes: float64(2), object(3)\n",
      "memory usage: 183.3+ KB\n"
     ]
    }
   ],
   "source": [
    "df.info()"
   ]
  },
  {
   "cell_type": "code",
   "execution_count": 4,
   "metadata": {},
   "outputs": [
    {
     "data": {
      "text/html": [
       "<div>\n",
       "<table border=\"1\" class=\"dataframe\">\n",
       "  <thead>\n",
       "    <tr style=\"text-align: right;\">\n",
       "      <th></th>\n",
       "      <th>hpg_store_id</th>\n",
       "      <th>hpg_genre_name</th>\n",
       "      <th>hpg_area_name</th>\n",
       "      <th>latitude</th>\n",
       "      <th>longitude</th>\n",
       "    </tr>\n",
       "  </thead>\n",
       "  <tbody>\n",
       "    <tr>\n",
       "      <th>0</th>\n",
       "      <td>hpg_6622b62385aec8bf</td>\n",
       "      <td>Japanese style</td>\n",
       "      <td>Tōkyō-to Setagaya-ku Taishidō</td>\n",
       "      <td>35.643675</td>\n",
       "      <td>139.668221</td>\n",
       "    </tr>\n",
       "    <tr>\n",
       "      <th>1</th>\n",
       "      <td>hpg_e9e068dd49c5fa00</td>\n",
       "      <td>Japanese style</td>\n",
       "      <td>Tōkyō-to Setagaya-ku Taishidō</td>\n",
       "      <td>35.643675</td>\n",
       "      <td>139.668221</td>\n",
       "    </tr>\n",
       "    <tr>\n",
       "      <th>2</th>\n",
       "      <td>hpg_2976f7acb4b3a3bc</td>\n",
       "      <td>Japanese style</td>\n",
       "      <td>Tōkyō-to Setagaya-ku Taishidō</td>\n",
       "      <td>35.643675</td>\n",
       "      <td>139.668221</td>\n",
       "    </tr>\n",
       "    <tr>\n",
       "      <th>3</th>\n",
       "      <td>hpg_e51a522e098f024c</td>\n",
       "      <td>Japanese style</td>\n",
       "      <td>Tōkyō-to Setagaya-ku Taishidō</td>\n",
       "      <td>35.643675</td>\n",
       "      <td>139.668221</td>\n",
       "    </tr>\n",
       "    <tr>\n",
       "      <th>4</th>\n",
       "      <td>hpg_e3d0e1519894f275</td>\n",
       "      <td>Japanese style</td>\n",
       "      <td>Tōkyō-to Setagaya-ku Taishidō</td>\n",
       "      <td>35.643675</td>\n",
       "      <td>139.668221</td>\n",
       "    </tr>\n",
       "  </tbody>\n",
       "</table>\n",
       "</div>"
      ],
      "text/plain": [
       "           hpg_store_id  hpg_genre_name                  hpg_area_name  \\\n",
       "0  hpg_6622b62385aec8bf  Japanese style  Tōkyō-to Setagaya-ku Taishidō   \n",
       "1  hpg_e9e068dd49c5fa00  Japanese style  Tōkyō-to Setagaya-ku Taishidō   \n",
       "2  hpg_2976f7acb4b3a3bc  Japanese style  Tōkyō-to Setagaya-ku Taishidō   \n",
       "3  hpg_e51a522e098f024c  Japanese style  Tōkyō-to Setagaya-ku Taishidō   \n",
       "4  hpg_e3d0e1519894f275  Japanese style  Tōkyō-to Setagaya-ku Taishidō   \n",
       "\n",
       "    latitude   longitude  \n",
       "0  35.643675  139.668221  \n",
       "1  35.643675  139.668221  \n",
       "2  35.643675  139.668221  \n",
       "3  35.643675  139.668221  \n",
       "4  35.643675  139.668221  "
      ]
     },
     "execution_count": 4,
     "metadata": {},
     "output_type": "execute_result"
    }
   ],
   "source": [
    "df.head()"
   ]
  },
  {
   "cell_type": "code",
   "execution_count": 5,
   "metadata": {},
   "outputs": [
    {
     "data": {
      "text/html": [
       "<div>\n",
       "<table border=\"1\" class=\"dataframe\">\n",
       "  <thead>\n",
       "    <tr style=\"text-align: right;\">\n",
       "      <th></th>\n",
       "      <th>latitude</th>\n",
       "      <th>longitude</th>\n",
       "    </tr>\n",
       "  </thead>\n",
       "  <tbody>\n",
       "    <tr>\n",
       "      <th>count</th>\n",
       "      <td>4690.000000</td>\n",
       "      <td>4690.000000</td>\n",
       "    </tr>\n",
       "    <tr>\n",
       "      <th>mean</th>\n",
       "      <td>35.810261</td>\n",
       "      <td>137.675816</td>\n",
       "    </tr>\n",
       "    <tr>\n",
       "      <th>std</th>\n",
       "      <td>2.138755</td>\n",
       "      <td>3.197233</td>\n",
       "    </tr>\n",
       "    <tr>\n",
       "      <th>min</th>\n",
       "      <td>33.311645</td>\n",
       "      <td>130.339313</td>\n",
       "    </tr>\n",
       "    <tr>\n",
       "      <th>25%</th>\n",
       "      <td>34.692109</td>\n",
       "      <td>135.498859</td>\n",
       "    </tr>\n",
       "    <tr>\n",
       "      <th>50%</th>\n",
       "      <td>35.659214</td>\n",
       "      <td>139.495733</td>\n",
       "    </tr>\n",
       "    <tr>\n",
       "      <th>75%</th>\n",
       "      <td>35.703381</td>\n",
       "      <td>139.737998</td>\n",
       "    </tr>\n",
       "    <tr>\n",
       "      <th>max</th>\n",
       "      <td>43.774846</td>\n",
       "      <td>143.714585</td>\n",
       "    </tr>\n",
       "  </tbody>\n",
       "</table>\n",
       "</div>"
      ],
      "text/plain": [
       "          latitude    longitude\n",
       "count  4690.000000  4690.000000\n",
       "mean     35.810261   137.675816\n",
       "std       2.138755     3.197233\n",
       "min      33.311645   130.339313\n",
       "25%      34.692109   135.498859\n",
       "50%      35.659214   139.495733\n",
       "75%      35.703381   139.737998\n",
       "max      43.774846   143.714585"
      ]
     },
     "execution_count": 5,
     "metadata": {},
     "output_type": "execute_result"
    }
   ],
   "source": [
    "df.describe()"
   ]
  },
  {
   "cell_type": "code",
   "execution_count": 6,
   "metadata": {},
   "outputs": [
    {
     "data": {
      "text/plain": [
       "False"
      ]
     },
     "execution_count": 6,
     "metadata": {},
     "output_type": "execute_result"
    }
   ],
   "source": [
    "df.isnull().values.any()"
   ]
  },
  {
   "cell_type": "markdown",
   "metadata": {},
   "source": [
    "Data is clean and it does not contain any missing values."
   ]
  },
  {
   "cell_type": "code",
   "execution_count": 7,
   "metadata": {},
   "outputs": [
    {
     "data": {
      "text/html": [
       "<div>\n",
       "<table border=\"1\" class=\"dataframe\">\n",
       "  <thead>\n",
       "    <tr style=\"text-align: right;\">\n",
       "      <th></th>\n",
       "      <th>hpg_store_id</th>\n",
       "      <th>hpg_genre_name</th>\n",
       "      <th>hpg_area_name</th>\n",
       "      <th>latitude</th>\n",
       "      <th>longitude</th>\n",
       "    </tr>\n",
       "  </thead>\n",
       "  <tbody>\n",
       "  </tbody>\n",
       "</table>\n",
       "</div>"
      ],
      "text/plain": [
       "Empty DataFrame\n",
       "Columns: [hpg_store_id, hpg_genre_name, hpg_area_name, latitude, longitude]\n",
       "Index: []"
      ]
     },
     "execution_count": 7,
     "metadata": {},
     "output_type": "execute_result"
    }
   ],
   "source": [
    "# Check if there are duplicated Store Ids\n",
    "df[df.duplicated(['hpg_store_id'])]"
   ]
  },
  {
   "cell_type": "markdown",
   "metadata": {},
   "source": [
    "Apparently dataset is clean and it does not contain any duplicated entry :) That's great!"
   ]
  },
  {
   "cell_type": "markdown",
   "metadata": {},
   "source": [
    "## hpg_genre_name"
   ]
  },
  {
   "cell_type": "code",
   "execution_count": 8,
   "metadata": {},
   "outputs": [
    {
     "data": {
      "text/plain": [
       "Japanese style                  1750\n",
       "International cuisine            700\n",
       "Creation                         410\n",
       "Seafood                          339\n",
       "Grilled meat                     325\n",
       "Italian                          249\n",
       "Spain Bar/Italian Bar            229\n",
       "Chinese general                   91\n",
       "Japanese food in general          85\n",
       "Japanese cuisine/Kaiseki          64\n",
       "Karaoke                           60\n",
       "Creative Japanese food            60\n",
       "Shabu-shabu/Sukiyaki              59\n",
       "Okonomiyaki/Monja/Teppanyaki      44\n",
       "Party                             40\n",
       "Korean cuisine                    38\n",
       "French                            27\n",
       "Steak/Hamburger/Curry             24\n",
       "Bistro                            22\n",
       "Cafe                              16\n",
       "Sushi                             11\n",
       "Pasta/Pizza                       10\n",
       "Bar/Cocktail                       7\n",
       "Thai/Vietnamese food               5\n",
       "Amusement bar                      5\n",
       "Western food                       5\n",
       "Cantonese food                     4\n",
       "Sichuan food                       3\n",
       "Dim Sum/Dumplings                  2\n",
       "Sweets                             2\n",
       "Udon/Soba                          1\n",
       "Shanghai food                      1\n",
       "Spain/Mediterranean cuisine        1\n",
       "Taiwanese/Hong Kong cuisine        1\n",
       "Name: hpg_genre_name, dtype: int64"
      ]
     },
     "execution_count": 8,
     "metadata": {},
     "output_type": "execute_result"
    }
   ],
   "source": [
    "df['hpg_genre_name'].value_counts()"
   ]
  },
  {
   "cell_type": "markdown",
   "metadata": {},
   "source": [
    "## hpg_area_name"
   ]
  },
  {
   "cell_type": "code",
   "execution_count": 9,
   "metadata": {},
   "outputs": [
    {
     "data": {
      "text/plain": [
       "Tōkyō-to Shinjuku-ku None                    257\n",
       "Tōkyō-to Chūō-ku Ginza                       198\n",
       "Hyōgo-ken Kōbe-shi None                      163\n",
       "Ōsaka-fu Ōsaka-shi Shinsaibashisuji          150\n",
       "Osaka Prefecture Osaka None                  145\n",
       "Hiroshima-ken Hiroshima-shi Hondōri          135\n",
       "Tōkyō-to Shibuya-ku None                     127\n",
       "Tōkyō-to Minato-ku Takanawa                  122\n",
       "Tōkyō-to Toshima-ku None                     119\n",
       "None None None                               117\n",
       "Tōkyō-to Hachiōji-shi Ishikawamachi          114\n",
       "Hokkaidō Sapporo-shi Minami 4 Jōnishi        110\n",
       "Tōkyō-to Taitō-ku None                       100\n",
       "Shizuoka-ken Hamamatsu-shi Sukenobuchō        90\n",
       "Fukuoka-ken Fukuoka-shi None                  90\n",
       "Tōkyō-to Chiyoda-ku None                      89\n",
       "Tōkyō-to Chūō-ku None                         86\n",
       "Tōkyō-to Sumida-ku Tachibana                  86\n",
       "Hokkaidō Sapporo-shi None                     84\n",
       "Shizuoka-ken Shizuoka-shi Hinodechō           79\n",
       "Tōkyō-to Minato-ku Roppongi                   78\n",
       "Tōkyō-to Machida-shi Nakamachi                74\n",
       "Miyagi-ken Sendai-shi Ichibanchō              73\n",
       "Ōsaka-fu Ōsaka-shi Awajimachi                 66\n",
       "Fukuoka-ken Fukuoka-shi Hakata Ekimae         66\n",
       "Fukuoka-ken Kitakyūshū-shi Sunatsu            65\n",
       "Hyōgo-ken Himeji-shi Tsuchiyama               63\n",
       "Kanagawa-ken Yokohama-shi Nagatsutachō        61\n",
       "Hiroshima-ken Hiroshima-shi Yokogawachō       60\n",
       "Niigata-ken Niigata-shi Higashiōdōri          58\n",
       "                                            ... \n",
       "Niigata-ken Niigata-shi Sakaihigashi           8\n",
       "Tōkyō-to Hino-shi Ochikawa                     7\n",
       "Tōkyō-to Fussa-shi Musashinodai                7\n",
       "Tōkyō-to Setagaya-ku None                      6\n",
       "Ōsaka-fu Ōsaka-shi Hannanchō                   5\n",
       "Ōsaka-fu Ōsaka-shi Izuo                        5\n",
       "Fukuoka-ken Chikushino-shi Yamaguchi           5\n",
       "Shizuoka-ken Shizuoka-shi Irie                 5\n",
       "Hokkaidō Sapporo-shi Sumikawa 2 Jō             5\n",
       "Tōkyō-to Itabashi-ku Maenochō                  4\n",
       "Miyagi-ken Sendai-shi Izumizaki                4\n",
       "Hokkaidō Asahikawa-shi Higashi 6 Jō            4\n",
       "Miyagi-ken Ōsaki-shi Furukawa                  4\n",
       "Miyagi-ken Sendai-shi Miyamachi                4\n",
       "Tōkyō-to Koganei-shi Kajinochō                 4\n",
       "Niigata-ken Jōetsu-shi Minamitaya Shinden      3\n",
       "Tōkyō-to Meguro-ku Takaban                     3\n",
       "Fukuoka-ken Fukuoka-shi Matsushima             3\n",
       "Miyagi-ken Shiogama-shi Shōyōdai               3\n",
       "Shizuoka-ken Fujinomiya-shi Wakanomiyachō      2\n",
       "Ōsaka-fu Sakai-shi Kobirao                     2\n",
       "Niigata-ken Shibata-shi Miyukichō              2\n",
       "Shizuoka-ken Itō-shi Ogi                       2\n",
       "Niigata-ken Niigata-shi Kurumaba               2\n",
       "Niigata-ken Niigata-shi Meike                  2\n",
       "Fukuoka-ken Iizuka-shi Mashiki                 2\n",
       "Tōkyō-to Shinagawa-ku Koyama                   1\n",
       "Hokkaidō Ashibetsu-shi None                    1\n",
       "Ōsaka-fu Minoo-shi Hanjo                       1\n",
       "Niigata-ken Nagaoka-shi Rokusho                1\n",
       "Name: hpg_area_name, dtype: int64"
      ]
     },
     "execution_count": 9,
     "metadata": {},
     "output_type": "execute_result"
    }
   ],
   "source": [
    "df['hpg_area_name'].value_counts()"
   ]
  },
  {
   "cell_type": "markdown",
   "metadata": {},
   "source": [
    "**INFO:** The `hpg_area_name` column contains information about location: prefecture, capital or ward, and area. Thus we can split that information into separate columns. "
   ]
  },
  {
   "cell_type": "code",
   "execution_count": 10,
   "metadata": {},
   "outputs": [],
   "source": [
    "df['hpg_area_name_prefecture'] = df['hpg_area_name'].str.split('\\s+').str[0]\n",
    "df['hpg_area_name_ward'] = df['hpg_area_name'].str.split('\\s+').str[1]\n",
    "df['hpg_area_name_area'] = df['hpg_area_name'].str.split('\\s+').str[2]"
   ]
  },
  {
   "cell_type": "code",
   "execution_count": 11,
   "metadata": {},
   "outputs": [
    {
     "data": {
      "text/html": [
       "<div>\n",
       "<table border=\"1\" class=\"dataframe\">\n",
       "  <thead>\n",
       "    <tr style=\"text-align: right;\">\n",
       "      <th></th>\n",
       "      <th>hpg_store_id</th>\n",
       "      <th>hpg_genre_name</th>\n",
       "      <th>hpg_area_name</th>\n",
       "      <th>latitude</th>\n",
       "      <th>longitude</th>\n",
       "      <th>hpg_area_name_prefecture</th>\n",
       "      <th>hpg_area_name_ward</th>\n",
       "      <th>hpg_area_name_area</th>\n",
       "    </tr>\n",
       "  </thead>\n",
       "  <tbody>\n",
       "    <tr>\n",
       "      <th>0</th>\n",
       "      <td>hpg_6622b62385aec8bf</td>\n",
       "      <td>Japanese style</td>\n",
       "      <td>Tōkyō-to Setagaya-ku Taishidō</td>\n",
       "      <td>35.643675</td>\n",
       "      <td>139.668221</td>\n",
       "      <td>Tōkyō-to</td>\n",
       "      <td>Setagaya-ku</td>\n",
       "      <td>Taishidō</td>\n",
       "    </tr>\n",
       "    <tr>\n",
       "      <th>1</th>\n",
       "      <td>hpg_e9e068dd49c5fa00</td>\n",
       "      <td>Japanese style</td>\n",
       "      <td>Tōkyō-to Setagaya-ku Taishidō</td>\n",
       "      <td>35.643675</td>\n",
       "      <td>139.668221</td>\n",
       "      <td>Tōkyō-to</td>\n",
       "      <td>Setagaya-ku</td>\n",
       "      <td>Taishidō</td>\n",
       "    </tr>\n",
       "    <tr>\n",
       "      <th>2</th>\n",
       "      <td>hpg_2976f7acb4b3a3bc</td>\n",
       "      <td>Japanese style</td>\n",
       "      <td>Tōkyō-to Setagaya-ku Taishidō</td>\n",
       "      <td>35.643675</td>\n",
       "      <td>139.668221</td>\n",
       "      <td>Tōkyō-to</td>\n",
       "      <td>Setagaya-ku</td>\n",
       "      <td>Taishidō</td>\n",
       "    </tr>\n",
       "    <tr>\n",
       "      <th>3</th>\n",
       "      <td>hpg_e51a522e098f024c</td>\n",
       "      <td>Japanese style</td>\n",
       "      <td>Tōkyō-to Setagaya-ku Taishidō</td>\n",
       "      <td>35.643675</td>\n",
       "      <td>139.668221</td>\n",
       "      <td>Tōkyō-to</td>\n",
       "      <td>Setagaya-ku</td>\n",
       "      <td>Taishidō</td>\n",
       "    </tr>\n",
       "    <tr>\n",
       "      <th>4</th>\n",
       "      <td>hpg_e3d0e1519894f275</td>\n",
       "      <td>Japanese style</td>\n",
       "      <td>Tōkyō-to Setagaya-ku Taishidō</td>\n",
       "      <td>35.643675</td>\n",
       "      <td>139.668221</td>\n",
       "      <td>Tōkyō-to</td>\n",
       "      <td>Setagaya-ku</td>\n",
       "      <td>Taishidō</td>\n",
       "    </tr>\n",
       "  </tbody>\n",
       "</table>\n",
       "</div>"
      ],
      "text/plain": [
       "           hpg_store_id  hpg_genre_name                  hpg_area_name  \\\n",
       "0  hpg_6622b62385aec8bf  Japanese style  Tōkyō-to Setagaya-ku Taishidō   \n",
       "1  hpg_e9e068dd49c5fa00  Japanese style  Tōkyō-to Setagaya-ku Taishidō   \n",
       "2  hpg_2976f7acb4b3a3bc  Japanese style  Tōkyō-to Setagaya-ku Taishidō   \n",
       "3  hpg_e51a522e098f024c  Japanese style  Tōkyō-to Setagaya-ku Taishidō   \n",
       "4  hpg_e3d0e1519894f275  Japanese style  Tōkyō-to Setagaya-ku Taishidō   \n",
       "\n",
       "    latitude   longitude hpg_area_name_prefecture hpg_area_name_ward  \\\n",
       "0  35.643675  139.668221                 Tōkyō-to        Setagaya-ku   \n",
       "1  35.643675  139.668221                 Tōkyō-to        Setagaya-ku   \n",
       "2  35.643675  139.668221                 Tōkyō-to        Setagaya-ku   \n",
       "3  35.643675  139.668221                 Tōkyō-to        Setagaya-ku   \n",
       "4  35.643675  139.668221                 Tōkyō-to        Setagaya-ku   \n",
       "\n",
       "  hpg_area_name_area  \n",
       "0           Taishidō  \n",
       "1           Taishidō  \n",
       "2           Taishidō  \n",
       "3           Taishidō  \n",
       "4           Taishidō  "
      ]
     },
     "execution_count": 11,
     "metadata": {},
     "output_type": "execute_result"
    }
   ],
   "source": [
    "df.head()"
   ]
  },
  {
   "cell_type": "code",
   "execution_count": 12,
   "metadata": {},
   "outputs": [
    {
     "data": {
      "text/plain": [
       "Tōkyō-to         2076\n",
       "Ōsaka-fu          514\n",
       "Fukuoka-ken       380\n",
       "Hyōgo-ken         331\n",
       "Hokkaidō          298\n",
       "Hiroshima-ken     245\n",
       "Shizuoka-ken      231\n",
       "Osaka             145\n",
       "Niigata-ken       142\n",
       "Miyagi-ken        139\n",
       "None              117\n",
       "Kanagawa-ken       61\n",
       "Saitama-ken        11\n",
       "Name: hpg_area_name_prefecture, dtype: int64"
      ]
     },
     "execution_count": 12,
     "metadata": {},
     "output_type": "execute_result"
    }
   ],
   "source": [
    "df['hpg_area_name_prefecture'].value_counts()"
   ]
  },
  {
   "cell_type": "markdown",
   "metadata": {},
   "source": [
    "# IDEAS:\n",
    "* to make statistics about trends for visits per restaurant genre type\n",
    "* consider local holidays (i.e. holiday only in Tokyo) as a potentially significant factor - special days with abnormally high number of reservations).  \n",
    "* to visualize restaurants on map. Examples:\n",
    "    * https://stackoverflow.com/questions/45388412/what-is-the-fastest-way-to-plot-coordinates-on-map-inline-jupyter\n",
    "    * http://bokeh.pydata.org/en/latest/docs/user_guide/geo.html\n",
    "    * https://github.com/pbugnion/gmaps)\n",
    "* to calculate distance from the restaurant to the city center and see if this is meaningful"
   ]
  }
 ],
 "metadata": {
  "kernelspec": {
   "display_name": "Python 3",
   "language": "python",
   "name": "python3"
  },
  "language_info": {
   "codemirror_mode": {
    "name": "ipython",
    "version": 3
   },
   "file_extension": ".py",
   "mimetype": "text/x-python",
   "name": "python",
   "nbconvert_exporter": "python",
   "pygments_lexer": "ipython3",
   "version": "3.6.3"
  }
 },
 "nbformat": 4,
 "nbformat_minor": 2
}
