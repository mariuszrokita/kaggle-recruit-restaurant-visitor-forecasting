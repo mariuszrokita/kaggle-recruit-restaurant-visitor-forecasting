{
 "cells": [
  {
   "cell_type": "code",
   "execution_count": 1,
   "metadata": {},
   "outputs": [],
   "source": [
    "import numpy as np\n",
    "import pandas as pd\n",
    "\n",
    "import seaborn as sns\n",
    "import matplotlib.pyplot as plt\n",
    "import matplotlib.dates as mdates\n",
    "%matplotlib inline"
   ]
  },
  {
   "cell_type": "markdown",
   "metadata": {},
   "source": [
    "# Air_Store_Info.csv"
   ]
  },
  {
   "cell_type": "code",
   "execution_count": 2,
   "metadata": {},
   "outputs": [],
   "source": [
    "df = pd.read_csv(\"../data/air_store_info.csv\")"
   ]
  },
  {
   "cell_type": "code",
   "execution_count": 3,
   "metadata": {},
   "outputs": [
    {
     "name": "stdout",
     "output_type": "stream",
     "text": [
      "<class 'pandas.core.frame.DataFrame'>\n",
      "RangeIndex: 829 entries, 0 to 828\n",
      "Data columns (total 5 columns):\n",
      "air_store_id      829 non-null object\n",
      "air_genre_name    829 non-null object\n",
      "air_area_name     829 non-null object\n",
      "latitude          829 non-null float64\n",
      "longitude         829 non-null float64\n",
      "dtypes: float64(2), object(3)\n",
      "memory usage: 32.5+ KB\n"
     ]
    }
   ],
   "source": [
    "df.info()"
   ]
  },
  {
   "cell_type": "code",
   "execution_count": 4,
   "metadata": {},
   "outputs": [
    {
     "data": {
      "text/html": [
       "<div>\n",
       "<table border=\"1\" class=\"dataframe\">\n",
       "  <thead>\n",
       "    <tr style=\"text-align: right;\">\n",
       "      <th></th>\n",
       "      <th>air_store_id</th>\n",
       "      <th>air_genre_name</th>\n",
       "      <th>air_area_name</th>\n",
       "      <th>latitude</th>\n",
       "      <th>longitude</th>\n",
       "    </tr>\n",
       "  </thead>\n",
       "  <tbody>\n",
       "    <tr>\n",
       "      <th>0</th>\n",
       "      <td>air_0f0cdeee6c9bf3d7</td>\n",
       "      <td>Italian/French</td>\n",
       "      <td>Hyōgo-ken Kōbe-shi Kumoidōri</td>\n",
       "      <td>34.695124</td>\n",
       "      <td>135.197852</td>\n",
       "    </tr>\n",
       "    <tr>\n",
       "      <th>1</th>\n",
       "      <td>air_7cc17a324ae5c7dc</td>\n",
       "      <td>Italian/French</td>\n",
       "      <td>Hyōgo-ken Kōbe-shi Kumoidōri</td>\n",
       "      <td>34.695124</td>\n",
       "      <td>135.197852</td>\n",
       "    </tr>\n",
       "    <tr>\n",
       "      <th>2</th>\n",
       "      <td>air_fee8dcf4d619598e</td>\n",
       "      <td>Italian/French</td>\n",
       "      <td>Hyōgo-ken Kōbe-shi Kumoidōri</td>\n",
       "      <td>34.695124</td>\n",
       "      <td>135.197852</td>\n",
       "    </tr>\n",
       "    <tr>\n",
       "      <th>3</th>\n",
       "      <td>air_a17f0778617c76e2</td>\n",
       "      <td>Italian/French</td>\n",
       "      <td>Hyōgo-ken Kōbe-shi Kumoidōri</td>\n",
       "      <td>34.695124</td>\n",
       "      <td>135.197852</td>\n",
       "    </tr>\n",
       "    <tr>\n",
       "      <th>4</th>\n",
       "      <td>air_83db5aff8f50478e</td>\n",
       "      <td>Italian/French</td>\n",
       "      <td>Tōkyō-to Minato-ku Shibakōen</td>\n",
       "      <td>35.658068</td>\n",
       "      <td>139.751599</td>\n",
       "    </tr>\n",
       "  </tbody>\n",
       "</table>\n",
       "</div>"
      ],
      "text/plain": [
       "           air_store_id  air_genre_name                 air_area_name  \\\n",
       "0  air_0f0cdeee6c9bf3d7  Italian/French  Hyōgo-ken Kōbe-shi Kumoidōri   \n",
       "1  air_7cc17a324ae5c7dc  Italian/French  Hyōgo-ken Kōbe-shi Kumoidōri   \n",
       "2  air_fee8dcf4d619598e  Italian/French  Hyōgo-ken Kōbe-shi Kumoidōri   \n",
       "3  air_a17f0778617c76e2  Italian/French  Hyōgo-ken Kōbe-shi Kumoidōri   \n",
       "4  air_83db5aff8f50478e  Italian/French  Tōkyō-to Minato-ku Shibakōen   \n",
       "\n",
       "    latitude   longitude  \n",
       "0  34.695124  135.197852  \n",
       "1  34.695124  135.197852  \n",
       "2  34.695124  135.197852  \n",
       "3  34.695124  135.197852  \n",
       "4  35.658068  139.751599  "
      ]
     },
     "execution_count": 4,
     "metadata": {},
     "output_type": "execute_result"
    }
   ],
   "source": [
    "df.head()"
   ]
  },
  {
   "cell_type": "code",
   "execution_count": 5,
   "metadata": {},
   "outputs": [
    {
     "data": {
      "text/html": [
       "<div>\n",
       "<table border=\"1\" class=\"dataframe\">\n",
       "  <thead>\n",
       "    <tr style=\"text-align: right;\">\n",
       "      <th></th>\n",
       "      <th>latitude</th>\n",
       "      <th>longitude</th>\n",
       "    </tr>\n",
       "  </thead>\n",
       "  <tbody>\n",
       "    <tr>\n",
       "      <th>count</th>\n",
       "      <td>829.000000</td>\n",
       "      <td>829.000000</td>\n",
       "    </tr>\n",
       "    <tr>\n",
       "      <th>mean</th>\n",
       "      <td>35.647042</td>\n",
       "      <td>137.415311</td>\n",
       "    </tr>\n",
       "    <tr>\n",
       "      <th>std</th>\n",
       "      <td>2.084659</td>\n",
       "      <td>3.650971</td>\n",
       "    </tr>\n",
       "    <tr>\n",
       "      <th>min</th>\n",
       "      <td>33.211967</td>\n",
       "      <td>130.195555</td>\n",
       "    </tr>\n",
       "    <tr>\n",
       "      <th>25%</th>\n",
       "      <td>34.695124</td>\n",
       "      <td>135.341564</td>\n",
       "    </tr>\n",
       "    <tr>\n",
       "      <th>50%</th>\n",
       "      <td>35.658068</td>\n",
       "      <td>139.685474</td>\n",
       "    </tr>\n",
       "    <tr>\n",
       "      <th>75%</th>\n",
       "      <td>35.694003</td>\n",
       "      <td>139.751599</td>\n",
       "    </tr>\n",
       "    <tr>\n",
       "      <th>max</th>\n",
       "      <td>44.020632</td>\n",
       "      <td>144.273398</td>\n",
       "    </tr>\n",
       "  </tbody>\n",
       "</table>\n",
       "</div>"
      ],
      "text/plain": [
       "         latitude   longitude\n",
       "count  829.000000  829.000000\n",
       "mean    35.647042  137.415311\n",
       "std      2.084659    3.650971\n",
       "min     33.211967  130.195555\n",
       "25%     34.695124  135.341564\n",
       "50%     35.658068  139.685474\n",
       "75%     35.694003  139.751599\n",
       "max     44.020632  144.273398"
      ]
     },
     "execution_count": 5,
     "metadata": {},
     "output_type": "execute_result"
    }
   ],
   "source": [
    "df.describe()"
   ]
  },
  {
   "cell_type": "code",
   "execution_count": 6,
   "metadata": {},
   "outputs": [
    {
     "data": {
      "text/plain": [
       "False"
      ]
     },
     "execution_count": 6,
     "metadata": {},
     "output_type": "execute_result"
    }
   ],
   "source": [
    "df.isnull().values.any()"
   ]
  },
  {
   "cell_type": "markdown",
   "metadata": {},
   "source": [
    "Data is clean and it does not contain any missing values."
   ]
  },
  {
   "cell_type": "code",
   "execution_count": 7,
   "metadata": {},
   "outputs": [
    {
     "data": {
      "text/html": [
       "<div>\n",
       "<table border=\"1\" class=\"dataframe\">\n",
       "  <thead>\n",
       "    <tr style=\"text-align: right;\">\n",
       "      <th></th>\n",
       "      <th>air_store_id</th>\n",
       "      <th>air_genre_name</th>\n",
       "      <th>air_area_name</th>\n",
       "      <th>latitude</th>\n",
       "      <th>longitude</th>\n",
       "    </tr>\n",
       "  </thead>\n",
       "  <tbody>\n",
       "  </tbody>\n",
       "</table>\n",
       "</div>"
      ],
      "text/plain": [
       "Empty DataFrame\n",
       "Columns: [air_store_id, air_genre_name, air_area_name, latitude, longitude]\n",
       "Index: []"
      ]
     },
     "execution_count": 7,
     "metadata": {},
     "output_type": "execute_result"
    }
   ],
   "source": [
    "# Check if there are duplicated Store Ids\n",
    "df[df.duplicated(['air_store_id'])]"
   ]
  },
  {
   "cell_type": "markdown",
   "metadata": {},
   "source": [
    "Apparently dataset is clean and it does not contain any duplicated entry :) That's great!"
   ]
  },
  {
   "cell_type": "markdown",
   "metadata": {},
   "source": [
    "## air_genre_name"
   ]
  },
  {
   "cell_type": "code",
   "execution_count": 8,
   "metadata": {},
   "outputs": [
    {
     "data": {
      "text/plain": [
       "Izakaya                         197\n",
       "Cafe/Sweets                     181\n",
       "Dining bar                      108\n",
       "Italian/French                  102\n",
       "Bar/Cocktail                     79\n",
       "Japanese food                    63\n",
       "Other                            27\n",
       "Yakiniku/Korean food             23\n",
       "Western food                     16\n",
       "Okonomiyaki/Monja/Teppanyaki     14\n",
       "Creative cuisine                 13\n",
       "Asian                             2\n",
       "International cuisine             2\n",
       "Karaoke/Party                     2\n",
       "Name: air_genre_name, dtype: int64"
      ]
     },
     "execution_count": 8,
     "metadata": {},
     "output_type": "execute_result"
    }
   ],
   "source": [
    "df['air_genre_name'].value_counts()"
   ]
  },
  {
   "cell_type": "markdown",
   "metadata": {},
   "source": [
    "## air_area_name"
   ]
  },
  {
   "cell_type": "code",
   "execution_count": 9,
   "metadata": {},
   "outputs": [
    {
     "data": {
      "text/plain": [
       "Fukuoka-ken Fukuoka-shi Daimyō                   64\n",
       "Tōkyō-to Shibuya-ku Shibuya                      58\n",
       "Tōkyō-to Minato-ku Shibakōen                     51\n",
       "Tōkyō-to Shinjuku-ku Kabukichō                   39\n",
       "Tōkyō-to Setagaya-ku Setagaya                    30\n",
       "Tōkyō-to Chūō-ku Tsukiji                         29\n",
       "Ōsaka-fu Ōsaka-shi Ōgimachi                      25\n",
       "Hiroshima-ken Hiroshima-shi Kokutaijimachi       23\n",
       "Tōkyō-to Meguro-ku Kamimeguro                    22\n",
       "Hokkaidō Sapporo-shi Minami 3 Jōnishi            21\n",
       "Tōkyō-to Suginami-ku Asagayaminami               21\n",
       "Tōkyō-to Chiyoda-ku Kudanminami                  20\n",
       "Ōsaka-fu Ōsaka-shi Kyūtarōmachi                  19\n",
       "Miyagi-ken Sendai-shi Kamisugi                   17\n",
       "Hyōgo-ken Kōbe-shi Kumoidōri                     17\n",
       "Fukuoka-ken Fukuoka-shi Hakata Ekimae            16\n",
       "Tōkyō-to Taitō-ku Higashiueno                    16\n",
       "Tōkyō-to Chūō-ku Ginza                           14\n",
       "Shizuoka-ken Hamamatsu-shi Motoshirochō          13\n",
       "Hokkaidō Asahikawa-shi 6 Jōdōri                  13\n",
       "Tōkyō-to Toshima-ku Minamiikebukuro              12\n",
       "Ōsaka-fu Ōsaka-shi Shinmachi                     10\n",
       "Hyōgo-ken Kakogawa-shi Kakogawachō Kitazaike     10\n",
       "Hyōgo-ken Himeji-shi Yasuda                       9\n",
       "Tōkyō-to Kōtō-ku Tōyō                             9\n",
       "Tōkyō-to Minato-ku Akasaka                        8\n",
       "Fukuoka-ken Fukuoka-shi Shiobaru                  7\n",
       "Hiroshima-ken Fukuyama-shi Higashisakuramachi     7\n",
       "Hyōgo-ken Nishinomiya-shi Rokutanjichō            7\n",
       "Fukuoka-ken Itoshima-shi Maebarunishi             7\n",
       "                                                 ..\n",
       "Tōkyō-to Kōtō-ku Kameido                          2\n",
       "Tōkyō-to Shibuya-ku Higashi                       2\n",
       "Tōkyō-to Taitō-ku Kuramae                         2\n",
       "Tōkyō-to Toshima-ku Nishiikebukuro                2\n",
       "Niigata-ken Kashiwazaki-shi Chūōchō               2\n",
       "Ōsaka-fu Neyagawa-shi Honmachi                    2\n",
       "Tōkyō-to Chiyoda-ku Kanda Jinbōchō                2\n",
       "Hokkaidō Sapporo-shi Kita 24 Jōnishi              2\n",
       "Fukuoka-ken Yame-shi Motomachi                    2\n",
       "Tōkyō-to Shibuya-ku Dōgenzaka                     2\n",
       "Tōkyō-to Katsushika-ku Tateishi                   2\n",
       "Tōkyō-to Musashino-shi Kichijōji Honchō           2\n",
       "Tōkyō-to Shibuya-ku Jingūmae                      2\n",
       "Tōkyō-to Koganei-shi Honchō                       2\n",
       "Tōkyō-to Meguro-ku Takaban                        2\n",
       "Hokkaidō Abashiri-shi Minami 6 Jōhigashi          2\n",
       "Hyōgo-ken Kōbe-shi Motomachidōri                  2\n",
       "Hokkaidō Katō-gun Motomachi                       2\n",
       "Ōsaka-fu Sakai-shi Minamikawaramachi              2\n",
       "Tōkyō-to Musashino-shi Midorichō                  2\n",
       "Fukuoka-ken Fukuoka-shi Takatori                  2\n",
       "Tōkyō-to Shinagawa-ku Higashigotanda              2\n",
       "Ōsaka-fu Ōsaka-shi Nanbasennichimae               2\n",
       "Shizuoka-ken Numazu-shi Miyukichō                 2\n",
       "Tōkyō-to Minato-ku Roppongi                       2\n",
       "Tōkyō-to Fuchū-shi Miyanishichō                   2\n",
       "Tōkyō-to Toshima-ku Sugamo                        2\n",
       "Ōsaka-fu Ōsaka-shi Fuminosato                     2\n",
       "Tōkyō-to Setagaya-ku Sangenjaya                   2\n",
       "Hyōgo-ken Amagasaki-shi Higashinanamatsuchō       2\n",
       "Name: air_area_name, dtype: int64"
      ]
     },
     "execution_count": 9,
     "metadata": {},
     "output_type": "execute_result"
    }
   ],
   "source": [
    "df['air_area_name'].value_counts()"
   ]
  },
  {
   "cell_type": "markdown",
   "metadata": {},
   "source": [
    "# IDEAS:\n",
    "* to make statistics about trends for visits per restaurant genre type\n",
    "* to visualize restaurants on map. Examples:\n",
    "    * https://stackoverflow.com/questions/45388412/what-is-the-fastest-way-to-plot-coordinates-on-map-inline-jupyter\n",
    "    * http://bokeh.pydata.org/en/latest/docs/user_guide/geo.html\n",
    "    * https://github.com/pbugnion/gmaps)\n",
    "* to calculate distance from the restaurant to the Tokyo center and see if this is meaningful"
   ]
  },
  {
   "cell_type": "code",
   "execution_count": null,
   "metadata": {},
   "outputs": [],
   "source": []
  }
 ],
 "metadata": {
  "kernelspec": {
   "display_name": "Python 3",
   "language": "python",
   "name": "python3"
  },
  "language_info": {
   "codemirror_mode": {
    "name": "ipython",
    "version": 3
   },
   "file_extension": ".py",
   "mimetype": "text/x-python",
   "name": "python",
   "nbconvert_exporter": "python",
   "pygments_lexer": "ipython3",
   "version": "3.6.3"
  }
 },
 "nbformat": 4,
 "nbformat_minor": 2
}
