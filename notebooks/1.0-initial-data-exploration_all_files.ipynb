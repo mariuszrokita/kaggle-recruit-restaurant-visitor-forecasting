{
 "cells": [
  {
   "cell_type": "code",
   "execution_count": 1,
   "metadata": {},
   "outputs": [],
   "source": [
    "import datetime\n",
    "import numpy as np\n",
    "import pandas as pd\n",
    "\n",
    "import seaborn as sns\n",
    "import matplotlib.pyplot as plt\n",
    "import matplotlib.dates as mdates\n",
    "import datetime as dt\n",
    "import calendar\n",
    "\n",
    "%matplotlib inline"
   ]
  },
  {
   "cell_type": "markdown",
   "metadata": {},
   "source": [
    "# Load Data"
   ]
  },
  {
   "cell_type": "code",
   "execution_count": 2,
   "metadata": {},
   "outputs": [],
   "source": [
    "df_air_reserve =       pd.read_csv(\"../data/raw/air_reserve.csv\", parse_dates=['visit_datetime', 'reserve_datetime'])\n",
    "df_air_store_info =    pd.read_csv(\"../data/raw/air_store_info.csv\")\n",
    "df_air_visit_data =    pd.read_csv(\"../data/raw/air_visit_data.csv\", parse_dates=['visit_date'])\n",
    "\n",
    "df_hpg_reserve =       pd.read_csv(\"../data/raw/hpg_reserve.csv\", parse_dates=['visit_datetime', 'reserve_datetime'])\n",
    "df_hpg_store_info =    pd.read_csv(\"../data/raw/hpg_store_info.csv\")\n",
    "\n",
    "df_date_info =         pd.read_csv(\"../data/raw/date_info.csv\", parse_dates=['calendar_date'])\n",
    "df_store_id_relation = pd.read_csv(\"../data/raw/store_id_relation.csv\")\n",
    "\n",
    "df_sample_submission = pd.read_csv(\"../data/raw/sample_submission.csv\")"
   ]
  },
  {
   "cell_type": "markdown",
   "metadata": {},
   "source": [
    "# Overview: File structure and content"
   ]
  },
  {
   "cell_type": "markdown",
   "metadata": {},
   "source": [
    "### Air Visits"
   ]
  },
  {
   "cell_type": "code",
   "execution_count": 3,
   "metadata": {},
   "outputs": [
    {
     "name": "stdout",
     "output_type": "stream",
     "text": [
      "<class 'pandas.core.frame.DataFrame'>\n",
      "RangeIndex: 252108 entries, 0 to 252107\n",
      "Data columns (total 3 columns):\n",
      "air_store_id    252108 non-null object\n",
      "visit_date      252108 non-null datetime64[ns]\n",
      "visitors        252108 non-null int64\n",
      "dtypes: datetime64[ns](1), int64(1), object(1)\n",
      "memory usage: 5.8+ MB\n"
     ]
    }
   ],
   "source": [
    "df_air_visit_data.info()"
   ]
  },
  {
   "cell_type": "code",
   "execution_count": 4,
   "metadata": {},
   "outputs": [
    {
     "data": {
      "text/html": [
       "<div>\n",
       "<table border=\"1\" class=\"dataframe\">\n",
       "  <thead>\n",
       "    <tr style=\"text-align: right;\">\n",
       "      <th></th>\n",
       "      <th>air_store_id</th>\n",
       "      <th>visit_date</th>\n",
       "      <th>visitors</th>\n",
       "    </tr>\n",
       "  </thead>\n",
       "  <tbody>\n",
       "    <tr>\n",
       "      <th>0</th>\n",
       "      <td>air_ba937bf13d40fb24</td>\n",
       "      <td>2016-01-13</td>\n",
       "      <td>25</td>\n",
       "    </tr>\n",
       "    <tr>\n",
       "      <th>1</th>\n",
       "      <td>air_ba937bf13d40fb24</td>\n",
       "      <td>2016-01-14</td>\n",
       "      <td>32</td>\n",
       "    </tr>\n",
       "    <tr>\n",
       "      <th>2</th>\n",
       "      <td>air_ba937bf13d40fb24</td>\n",
       "      <td>2016-01-15</td>\n",
       "      <td>29</td>\n",
       "    </tr>\n",
       "    <tr>\n",
       "      <th>3</th>\n",
       "      <td>air_ba937bf13d40fb24</td>\n",
       "      <td>2016-01-16</td>\n",
       "      <td>22</td>\n",
       "    </tr>\n",
       "    <tr>\n",
       "      <th>4</th>\n",
       "      <td>air_ba937bf13d40fb24</td>\n",
       "      <td>2016-01-18</td>\n",
       "      <td>6</td>\n",
       "    </tr>\n",
       "  </tbody>\n",
       "</table>\n",
       "</div>"
      ],
      "text/plain": [
       "           air_store_id visit_date  visitors\n",
       "0  air_ba937bf13d40fb24 2016-01-13        25\n",
       "1  air_ba937bf13d40fb24 2016-01-14        32\n",
       "2  air_ba937bf13d40fb24 2016-01-15        29\n",
       "3  air_ba937bf13d40fb24 2016-01-16        22\n",
       "4  air_ba937bf13d40fb24 2016-01-18         6"
      ]
     },
     "execution_count": 4,
     "metadata": {},
     "output_type": "execute_result"
    }
   ],
   "source": [
    "df_air_visit_data.head()"
   ]
  },
  {
   "cell_type": "markdown",
   "metadata": {},
   "source": [
    "### Air Reserve"
   ]
  },
  {
   "cell_type": "code",
   "execution_count": 5,
   "metadata": {},
   "outputs": [
    {
     "name": "stdout",
     "output_type": "stream",
     "text": [
      "<class 'pandas.core.frame.DataFrame'>\n",
      "RangeIndex: 92378 entries, 0 to 92377\n",
      "Data columns (total 4 columns):\n",
      "air_store_id        92378 non-null object\n",
      "visit_datetime      92378 non-null datetime64[ns]\n",
      "reserve_datetime    92378 non-null datetime64[ns]\n",
      "reserve_visitors    92378 non-null int64\n",
      "dtypes: datetime64[ns](2), int64(1), object(1)\n",
      "memory usage: 2.8+ MB\n"
     ]
    }
   ],
   "source": [
    "df_air_reserve.info()"
   ]
  },
  {
   "cell_type": "code",
   "execution_count": 6,
   "metadata": {},
   "outputs": [
    {
     "data": {
      "text/html": [
       "<div>\n",
       "<table border=\"1\" class=\"dataframe\">\n",
       "  <thead>\n",
       "    <tr style=\"text-align: right;\">\n",
       "      <th></th>\n",
       "      <th>air_store_id</th>\n",
       "      <th>visit_datetime</th>\n",
       "      <th>reserve_datetime</th>\n",
       "      <th>reserve_visitors</th>\n",
       "    </tr>\n",
       "  </thead>\n",
       "  <tbody>\n",
       "    <tr>\n",
       "      <th>0</th>\n",
       "      <td>air_877f79706adbfb06</td>\n",
       "      <td>2016-01-01 19:00:00</td>\n",
       "      <td>2016-01-01 16:00:00</td>\n",
       "      <td>1</td>\n",
       "    </tr>\n",
       "    <tr>\n",
       "      <th>1</th>\n",
       "      <td>air_db4b38ebe7a7ceff</td>\n",
       "      <td>2016-01-01 19:00:00</td>\n",
       "      <td>2016-01-01 19:00:00</td>\n",
       "      <td>3</td>\n",
       "    </tr>\n",
       "    <tr>\n",
       "      <th>2</th>\n",
       "      <td>air_db4b38ebe7a7ceff</td>\n",
       "      <td>2016-01-01 19:00:00</td>\n",
       "      <td>2016-01-01 19:00:00</td>\n",
       "      <td>6</td>\n",
       "    </tr>\n",
       "    <tr>\n",
       "      <th>3</th>\n",
       "      <td>air_877f79706adbfb06</td>\n",
       "      <td>2016-01-01 20:00:00</td>\n",
       "      <td>2016-01-01 16:00:00</td>\n",
       "      <td>2</td>\n",
       "    </tr>\n",
       "    <tr>\n",
       "      <th>4</th>\n",
       "      <td>air_db80363d35f10926</td>\n",
       "      <td>2016-01-01 20:00:00</td>\n",
       "      <td>2016-01-01 01:00:00</td>\n",
       "      <td>5</td>\n",
       "    </tr>\n",
       "  </tbody>\n",
       "</table>\n",
       "</div>"
      ],
      "text/plain": [
       "           air_store_id      visit_datetime    reserve_datetime  \\\n",
       "0  air_877f79706adbfb06 2016-01-01 19:00:00 2016-01-01 16:00:00   \n",
       "1  air_db4b38ebe7a7ceff 2016-01-01 19:00:00 2016-01-01 19:00:00   \n",
       "2  air_db4b38ebe7a7ceff 2016-01-01 19:00:00 2016-01-01 19:00:00   \n",
       "3  air_877f79706adbfb06 2016-01-01 20:00:00 2016-01-01 16:00:00   \n",
       "4  air_db80363d35f10926 2016-01-01 20:00:00 2016-01-01 01:00:00   \n",
       "\n",
       "   reserve_visitors  \n",
       "0                 1  \n",
       "1                 3  \n",
       "2                 6  \n",
       "3                 2  \n",
       "4                 5  "
      ]
     },
     "execution_count": 6,
     "metadata": {},
     "output_type": "execute_result"
    }
   ],
   "source": [
    "df_air_reserve.head()"
   ]
  },
  {
   "cell_type": "markdown",
   "metadata": {},
   "source": [
    "### Air Store Info"
   ]
  },
  {
   "cell_type": "code",
   "execution_count": null,
   "metadata": {},
   "outputs": [
    {
     "name": "stdout",
     "output_type": "stream",
     "text": [
      "<class 'pandas.core.frame.DataFrame'>\n",
      "RangeIndex: 92378 entries, 0 to 92377\n",
      "Data columns (total 4 columns):\n",
      "air_store_id        92378 non-null object\n",
      "visit_datetime      92378 non-null datetime64[ns]\n",
      "reserve_datetime    92378 non-null datetime64[ns]\n",
      "reserve_visitors    92378 non-null int64\n",
      "dtypes: datetime64[ns](2), int64(1), object(1)\n",
      "memory usage: 2.8+ MB\n"
     ]
    }
   ],
   "source": [
    "df_air_reserve.info()"
   ]
  },
  {
   "cell_type": "code",
   "execution_count": null,
   "metadata": {},
   "outputs": [],
   "source": [
    "df_air_store_info.head()"
   ]
  },
  {
   "cell_type": "markdown",
   "metadata": {},
   "source": [
    "### HPG Reserve"
   ]
  },
  {
   "cell_type": "code",
   "execution_count": null,
   "metadata": {},
   "outputs": [],
   "source": [
    "df_hpg_reserve.info()"
   ]
  },
  {
   "cell_type": "code",
   "execution_count": null,
   "metadata": {},
   "outputs": [],
   "source": [
    "df_hpg_reserve.head()"
   ]
  },
  {
   "cell_type": "markdown",
   "metadata": {},
   "source": [
    "### HPG Store Info"
   ]
  },
  {
   "cell_type": "code",
   "execution_count": null,
   "metadata": {},
   "outputs": [],
   "source": [
    "df_hpg_store_info.info()"
   ]
  },
  {
   "cell_type": "code",
   "execution_count": null,
   "metadata": {},
   "outputs": [],
   "source": [
    "df_hpg_store_info.head()"
   ]
  },
  {
   "cell_type": "markdown",
   "metadata": {},
   "source": [
    "### Date Info"
   ]
  },
  {
   "cell_type": "code",
   "execution_count": null,
   "metadata": {},
   "outputs": [],
   "source": [
    "df_date_info.info()"
   ]
  },
  {
   "cell_type": "code",
   "execution_count": null,
   "metadata": {},
   "outputs": [],
   "source": [
    "df_date_info.head()"
   ]
  },
  {
   "cell_type": "markdown",
   "metadata": {},
   "source": [
    "### Sample Submission"
   ]
  },
  {
   "cell_type": "code",
   "execution_count": null,
   "metadata": {},
   "outputs": [],
   "source": [
    "df_sample_submission.info()"
   ]
  },
  {
   "cell_type": "code",
   "execution_count": null,
   "metadata": {},
   "outputs": [],
   "source": [
    "df_sample_submission.head()"
   ]
  },
  {
   "cell_type": "markdown",
   "metadata": {},
   "source": [
    "# Feature Visualization"
   ]
  },
  {
   "cell_type": "markdown",
   "metadata": {},
   "source": [
    "#### DATA PREPROCESSING"
   ]
  },
  {
   "cell_type": "code",
   "execution_count": null,
   "metadata": {},
   "outputs": [],
   "source": [
    "# set DateTime index to perform visualizations\n",
    "df_date_info.set_index('calendar_date', inplace=True)\n",
    "\n",
    "df_holidays = df_date_info[df_date_info['holiday_flg'] == True]"
   ]
  },
  {
   "cell_type": "code",
   "execution_count": null,
   "metadata": {},
   "outputs": [],
   "source": [
    "df_holidays.head()"
   ]
  },
  {
   "cell_type": "markdown",
   "metadata": {},
   "source": [
    "## Air Visits"
   ]
  },
  {
   "cell_type": "code",
   "execution_count": null,
   "metadata": {},
   "outputs": [],
   "source": [
    "# set DateTime index to perform visualizations\n",
    "df_air_visit_data.set_index('visit_date', inplace=True)"
   ]
  },
  {
   "cell_type": "markdown",
   "metadata": {},
   "source": [
    "#### STATISTICS ON NUMBER OF VISITORS PER DAY IN THE WHOLE TIME FRAME"
   ]
  },
  {
   "cell_type": "code",
   "execution_count": null,
   "metadata": {},
   "outputs": [],
   "source": [
    "# display statistics per day\n",
    "visits_daily = df_air_visit_data.resample('D').sum()\n",
    "ax = visits_daily.plot(figsize=(18,6), title='Total number of visitors per day (full training set) and holidays');\n",
    "\n",
    "# display holidays\n",
    "for index, row in df_holidays.iterrows():\n",
    "    ax.axvline(x=index, color='b', linewidth=0.5, label='holidays');\n",
    "\n",
    "# plot styling\n",
    "ax.set_xlabel(\"Date\")\n",
    "ax.set_ylabel(\"# of visitors\");\n",
    "\n",
    "ax.xaxis.grid(True, 'major')\n",
    "ax.xaxis.grid(True, 'minor')\n",
    "    \n",
    "ax.legend(['visitors', 'holidays']);"
   ]
  },
  {
   "cell_type": "markdown",
   "metadata": {},
   "source": [
    "#### STATISTICS ON NUMBER OF VISITORS PER MONTH"
   ]
  },
  {
   "cell_type": "code",
   "execution_count": null,
   "metadata": {},
   "outputs": [],
   "source": [
    "# display statistics per month\n",
    "visits_monthly = df_air_visit_data.resample('M').sum()\n",
    "ax = visits_monthly.plot(figsize=(18,6), title='Total number of visitors per month (full training set)');\n",
    "\n",
    "ax.set_xlabel(\"Date\")\n",
    "ax.set_ylabel(\"# of visitors\");\n",
    "\n",
    "ax.xaxis.grid(True, 'major')\n",
    "ax.xaxis.grid(True, 'minor')"
   ]
  },
  {
   "cell_type": "markdown",
   "metadata": {},
   "source": [
    "#### MOST COMMON NUMBER OF VISITORS PER RESTAURANT PER DAY"
   ]
  },
  {
   "cell_type": "code",
   "execution_count": null,
   "metadata": {
    "scrolled": false
   },
   "outputs": [],
   "source": [
    "# determine number of bins to use\n",
    "bin_counts = np.bincount(df_air_visit_data['visitors'])\n",
    "\n",
    "# display bins\n",
    "ax = df_air_visit_data['visitors'].hist(bins=len(bin_counts), figsize=(18,6), color='c', edgecolor='black');\n",
    "\n",
    "# display mode (most common value)\n",
    "ax.axvline(x=np.argmax(bin_counts), color='b', linewidth=0.5, linestyle='dashed');\n",
    "# display median\n",
    "ax.axvline(x=df_air_visit_data['visitors'].median(), color='r', linewidth=0.5, linestyle='dashed');\n",
    "\n",
    "# plot styling\n",
    "ax.set_xscale('log')\n",
    "\n",
    "ax.set_title(\"Number of visitors in restaurants per day\")\n",
    "ax.set_xlabel(\"Visitors per day\")\n",
    "ax.set_ylabel(\"Count\");\n",
    "\n",
    "ax.legend(['Most common number', 'Median']);"
   ]
  },
  {
   "cell_type": "code",
   "execution_count": null,
   "metadata": {
    "scrolled": true
   },
   "outputs": [],
   "source": [
    "print(\"Most common number of visitors in restaurants per day is {0} (occurred {1} times).\" \\\n",
    "          .format(np.argmax(bin_counts), np.max(bin_counts)))"
   ]
  },
  {
   "cell_type": "markdown",
   "metadata": {},
   "source": [
    "#### STATISTICS ON NUMBER OF VISITORS PER RESTAURANT PER WEEKDAY"
   ]
  },
  {
   "cell_type": "code",
   "execution_count": null,
   "metadata": {},
   "outputs": [],
   "source": [
    "# create new columns\n",
    "df_air_visit_data['visit_date'] = df_air_visit_data.index\n",
    "df_air_visit_data['weekday'] = df_air_visit_data['visit_date'].dt.dayofweek\n",
    "df_air_visit_data['weekday_name'] = df_air_visit_data['visit_date'].dt.weekday_name\n",
    "\n",
    "# group data by weekday\n",
    "visits_per_weekday = \\\n",
    "    df_air_visit_data[['weekday', 'weekday_name', 'visitors']] \\\n",
    "        .groupby(['weekday', 'weekday_name']) \\\n",
    "        .agg(['median']) \\\n",
    "        .sort_index(ascending=True)\n",
    "\n",
    "# display data\n",
    "ax = visits_per_weekday.plot(kind='bar')\n",
    "\n",
    "# plot styling\n",
    "ax.set_title(\"Median number of visitors in restaurant per day of week\")\n",
    "ax.set_xlabel(\"Days of week\")\n",
    "ax.set_ylabel(\"Median visitors\");\n",
    "ax.legend_.remove()\n",
    "\n",
    "ax.set_xticklabels(list(calendar.day_name), rotation=45);\n",
    "ax.axhline(y=df_air_visit_data['visitors'].median(), color='r', linewidth=0.5, linestyle='dashed');"
   ]
  }
 ],
 "metadata": {
  "kernelspec": {
   "display_name": "Python 3",
   "language": "python",
   "name": "python3"
  },
  "language_info": {
   "codemirror_mode": {
    "name": "ipython",
    "version": 3
   },
   "file_extension": ".py",
   "mimetype": "text/x-python",
   "name": "python",
   "nbconvert_exporter": "python",
   "pygments_lexer": "ipython3",
   "version": "3.6.3"
  }
 },
 "nbformat": 4,
 "nbformat_minor": 2
}
